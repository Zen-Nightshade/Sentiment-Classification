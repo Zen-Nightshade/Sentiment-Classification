{
 "cells": [
  {
   "cell_type": "markdown",
   "id": "b983108c-ec7b-4111-bd12-ae6f704010af",
   "metadata": {},
   "source": [
    "# Importing Libraries"
   ]
  },
  {
   "cell_type": "code",
   "execution_count": 2,
   "id": "3b64c2ea-94a5-4964-a3ed-81c57deaa2e4",
   "metadata": {
    "execution": {
     "iopub.execute_input": "2025-07-08T04:21:51.120331Z",
     "iopub.status.busy": "2025-07-08T04:21:51.119698Z",
     "iopub.status.idle": "2025-07-08T04:21:51.127216Z",
     "shell.execute_reply": "2025-07-08T04:21:51.126480Z",
     "shell.execute_reply.started": "2025-07-08T04:21:51.120298Z"
    }
   },
   "outputs": [],
   "source": [
    "import pandas as pd\n",
    "import numpy as np\n",
    "import torch\n",
    "import torch.nn as nn\n",
    "import torch.nn.functional as F\n",
    "from torch.utils.data import Dataset, DataLoader\n",
    "from transformers import BertTokenizer, BertModel\n",
    "from sklearn.preprocessing import OneHotEncoder, LabelEncoder\n",
    "from sklearn.model_selection import train_test_split\n",
    "from sklearn.metrics import accuracy_score, precision_score, recall_score, f1_score, confusion_matrix, ConfusionMatrixDisplay\n",
    "from datasets import load_dataset\n",
    "import seaborn as sns\n",
    "import matplotlib.pyplot as plt \n",
    "import random\n",
    "import re\n",
    "import os\n",
    "import time\n",
    "import zipfile\n",
    "from IPython.display import HTML, display"
   ]
  },
  {
   "cell_type": "markdown",
   "id": "02d74162-0121-46f5-89d4-b7de3af71c69",
   "metadata": {},
   "source": [
    "# CPU optimizations"
   ]
  },
  {
   "cell_type": "code",
   "execution_count": 4,
   "id": "44c9659f-ee38-4f2e-ab00-9c68fa457965",
   "metadata": {
    "execution": {
     "iopub.execute_input": "2025-07-08T04:22:14.665745Z",
     "iopub.status.busy": "2025-07-08T04:22:14.664971Z",
     "iopub.status.idle": "2025-07-08T04:22:14.672572Z",
     "shell.execute_reply": "2025-07-08T04:22:14.671807Z",
     "shell.execute_reply.started": "2025-07-08T04:22:14.665712Z"
    }
   },
   "outputs": [],
   "source": [
    "if not torch.cuda.is_available():\n",
    "    print(\"Default Configurations:\")\n",
    "    print(\"Intra-op threads:\", torch.get_num_threads())\n",
    "    print(\"Inter-op threads:\", torch.get_num_interop_threads())\n",
    "    print()\n",
    "    print(\"Updated Configurations:\")\n",
    "    cpu_threads =  os.cpu_count()\n",
    "    cpu_threads = int(cpu_threads * 0.8) # using 80% of the logical threads\n",
    "    torch.set_num_threads(cpu_threads)\n",
    "    torch.set_num_interop_threads(min(8, cpu_threads))\n",
    "    \n",
    "    os.environ[\"OMP_NUM_THREADS\"] = str(cpu_threads)\n",
    "    os.environ[\"MKL_NUM_THREADS\"] = str(cpu_threads)\n",
    "    os.environ[\"OPENBLAS_NUM_THREADS\"] = str(cpu_threads)\n",
    "    os.environ[\"NUMEXPR_NUM_THREADS\"] = str(cpu_threads)\n",
    "    \n",
    "    print(f\"Using {cpu_threads} threads for PyTorch operations.\")\n",
    "    print(f\"Intra-op threads={torch.get_num_threads()}\")\n",
    "    print(f\"Inter-op threads={torch.get_num_interop_threads()}\")"
   ]
  },
  {
   "cell_type": "markdown",
   "id": "553c9f18-e293-4483-a0db-ae212bbbf5b6",
   "metadata": {},
   "source": [
    "# Configuration Settings for Dataset, Model, and Training Environment"
   ]
  },
  {
   "cell_type": "code",
   "execution_count": 5,
   "id": "d640d6a0-ad60-4f16-8f9c-b01a5ef8b600",
   "metadata": {
    "execution": {
     "iopub.execute_input": "2025-07-08T04:22:21.369267Z",
     "iopub.status.busy": "2025-07-08T04:22:21.368944Z",
     "iopub.status.idle": "2025-07-08T04:22:21.374624Z",
     "shell.execute_reply": "2025-07-08T04:22:21.373791Z",
     "shell.execute_reply.started": "2025-07-08T04:22:21.369241Z"
    }
   },
   "outputs": [
    {
     "name": "stdout",
     "output_type": "stream",
     "text": [
      "yes\n"
     ]
    }
   ],
   "source": [
    "location = \"stanfordnlp/imdb\"\n",
    "\n",
    "pin_memory = False # enable if you have GPU\n",
    "if torch.cuda.is_available():\n",
    "    num_workers = 2\n",
    "    print(\"yes\")\n",
    "else:\n",
    "    num_workers = 8\n",
    "\n",
    "batch_size = 64\n",
    "\n",
    "load_pre_trained_model = False # enable only if the pretrained models are available\n",
    "saved_dir = \"\"\n",
    "save_model = True\n",
    "\n",
    "bert_model = \"prajjwal1/bert-mini\""
   ]
  },
  {
   "cell_type": "markdown",
   "id": "5decf08a-d796-46c9-9090-8cae554f5985",
   "metadata": {},
   "source": [
    "# Implementation Approach\n",
    "Implementing 16 separate classes for each model variant is highly inefficient. Instead, my approach is to create just 4 modular classes—AdditiveAttention, MultiplicativeAttention, AttentiveRNN, and AttentiveLSTM—which can be flexibly combined to construct all 16 model variants.\n",
    "\n",
    "**AdditiveAttention**: Implements the standard Bahdanau attention mechanism. It is compatible with both unidirectional and bidirectional single-layer sequential models.\n",
    "\n",
    "**MultiplicativeAttention**: Implements the Luong attention mechanism, where the scoring function (\"dot\", \"general\", or \"concat\") is passed as an initialization argument. It supports both unidirectional and bidirectional single-layer sequential models.\n",
    "\n",
    "**AttentiveRNN**: A configurable RNN wrapper that accepts an attention mechanism (or None) and the direction (uni or bi) as arguments. Passing None allows implementation of the vanilla RNN (without attention).\n",
    "\n",
    "**AttentiveLSTM**: Similar to `AttentiveRNN`, but based on LSTM layers. It also accepts an attention mechanism (or None) and a direction flag. Passing None results in a standard LSTM without attention."
   ]
  },
  {
   "cell_type": "markdown",
   "id": "55687a26-f25f-428d-b0da-8cdd5f8381f5",
   "metadata": {},
   "source": [
    "# Phase-1: Attention Layer Implementation"
   ]
  },
  {
   "cell_type": "markdown",
   "id": "b6e6711e-a02e-49c2-ba90-09adf890dd36",
   "metadata": {},
   "source": [
    "## Bahdanau (Additive) Attention"
   ]
  },
  {
   "cell_type": "code",
   "execution_count": 6,
   "id": "0b8b803f-96de-4c7a-a5e8-ba82ceb34276",
   "metadata": {
    "execution": {
     "iopub.execute_input": "2025-07-08T04:22:31.839540Z",
     "iopub.status.busy": "2025-07-08T04:22:31.838551Z",
     "iopub.status.idle": "2025-07-08T04:22:31.851501Z",
     "shell.execute_reply": "2025-07-08T04:22:31.850262Z",
     "shell.execute_reply.started": "2025-07-08T04:22:31.839473Z"
    }
   },
   "outputs": [],
   "source": [
    "class AdditiveAttention(nn.Module):\n",
    "    def __init__(self, hidden_state_dim, bidirectional = False):\n",
    "        super().__init__()\n",
    "        self.hidden_state_dim = hidden_state_dim\n",
    "        \n",
    "        if bidirectional:\n",
    "            self.input_dim = self.hidden_state_dim * 2\n",
    "        else:\n",
    "            self.input_dim = self.hidden_state_dim \n",
    "            \n",
    "        self.U = nn.Linear(self.input_dim, self.hidden_state_dim)\n",
    "        self.W = nn.Linear(self.input_dim, self.hidden_state_dim)\n",
    "        self.V = nn.Linear(self.hidden_state_dim, 1)\n",
    "    \n",
    "    def forward(self, encoder_outputs, prev_hidden_state, attention_mask = None):\n",
    "        # encoder_outputs: (batch, seq_len, input_dim)\n",
    "        # prev_hidden_state: (directions, batch, hidden_state_dim)\n",
    "        \n",
    "        prev_hidden_state = prev_hidden_state.permute(1, 0, 2).contiguous()                     # (batch, directions, hidden_state_dim)\n",
    "        prev_hidden_state = prev_hidden_state.view(prev_hidden_state.size(0), -1)               # (batch, input_dim)\n",
    "        \n",
    "        previous_state = prev_hidden_state.unsqueeze(1)                                         # (batch, 1, hidden_state_dim)\n",
    "        Wa = self.W(encoder_outputs)                                                            # (batch, seq_len, hidden_state_dim)\n",
    "        Ua = self.U(previous_state)                                                             # (batch, 1, hidden_state_dim) \n",
    "        energy = F.tanh(Wa+Ua)                                                                  # (batch, seq_len, hidden_state_dim)\n",
    "        # shapes are broadcast-compatible, thanks to dimension 1 in Ua\n",
    "        Score = self.V(energy)                                                                  # (batch, seq_len, 1)\n",
    "        if attention_mask is not None:\n",
    "            mask = attention_mask.unsqueeze(-1)                                                 # (batch, seq_len, 1)\n",
    "            Score = Score.masked_fill(mask == 0, float('-inf'))                                 # (batch, seq_len, 1)\n",
    "        \n",
    "        attention_weights = F.softmax(Score, dim =1)                                            # (batch, seq_len, 1)\n",
    "        \n",
    "        context = (attention_weights * encoder_outputs).sum(dim = 1)                            #(batch, input_dim)\n",
    "        # shapes are broadcast-compatible, thanks to dimension 1 in attention_weights\n",
    "        return context, attention_weights"
   ]
  },
  {
   "cell_type": "markdown",
   "id": "7b22d775-b6d0-4d55-8b0c-6a5910caed7b",
   "metadata": {},
   "source": [
    "## Luong (Multiplicative) Attention"
   ]
  },
  {
   "cell_type": "code",
   "execution_count": 7,
   "id": "e0faf9fd-9030-4fc1-a9e9-3be40ef2397c",
   "metadata": {
    "execution": {
     "iopub.execute_input": "2025-07-08T04:22:36.048871Z",
     "iopub.status.busy": "2025-07-08T04:22:36.048152Z",
     "iopub.status.idle": "2025-07-08T04:22:36.060434Z",
     "shell.execute_reply": "2025-07-08T04:22:36.059645Z",
     "shell.execute_reply.started": "2025-07-08T04:22:36.048842Z"
    }
   },
   "outputs": [],
   "source": [
    "class MultiplicativeAttentions(nn.Module):\n",
    "    def __init__(self, hidden_state_dim, bidirectional = False, scoring_function = \"general\"):\n",
    "        super().__init__()\n",
    "        self.hidden_state_dim = hidden_state_dim\n",
    "        if bidirectional:\n",
    "            self.input_dim = self.hidden_state_dim * 2\n",
    "        else:\n",
    "            self.input_dim = self.hidden_state_dim\n",
    "        self.general = nn.Linear(self.input_dim, self.input_dim)\n",
    "        self.concat = nn.Linear(self.input_dim * 2, self.hidden_state_dim)\n",
    "        self.concate_V = nn.Linear(self.hidden_state_dim, 1)\n",
    "        if scoring_function.lower() not in [\"dot\", \"general\", \"concat\"]:\n",
    "            raise ValueError(f\"Unsupported scoring function: {scoring_function}. Choose from 'dot', 'general', or 'concat'.\")\n",
    "        else:\n",
    "            self.function = scoring_function.lower()\n",
    "        \n",
    "    def forward(self, encoder_outputs, prev_hidden_state, attention_mask = None):\n",
    "        # encoder_outputs: (batch, seq_len, input_dim)\n",
    "        # prev_hidden_state: (directions, batch, hidden_state_dim)\n",
    "\n",
    "        prev_hidden_state = prev_hidden_state.permute(1, 0, 2).contiguous()                     # (batch, directions, hidden_state_dim)\n",
    "        prev_hidden_state = prev_hidden_state.view(prev_hidden_state.size(0), -1)               # (batch, input_dim)\n",
    "        batch, seq_len, _ = encoder_outputs.shape\n",
    "        previous_state = prev_hidden_state.unsqueeze(1).expand(-1, seq_len, -1)                 # (batch, seq_len, input_dim)\n",
    "        match self.function:\n",
    "            case \"dot\":\n",
    "                Score = torch.bmm(encoder_outputs, prev_hidden_state.unsqueeze(2))              # (batch, seq_len, 1)\n",
    "            case \"general\":\n",
    "                projected = self.general(encoder_outputs)                                       # (batch, seq_len, input_dim)\n",
    "                Score = torch.bmm(projected, prev_hidden_state.unsqueeze(2))                    # (batch, seq_len, 1)\n",
    "            case \"concat\":\n",
    "                concated_inputs = torch.cat((encoder_outputs, previous_state), dim =2)          # (batch, seq_len, 2*input_dim)\n",
    "                energy = F.tanh(self.concat(concated_inputs))                                   # (batch, seq_len, hidden_state_dim)\n",
    "                Score = self.concate_V(energy)                                                  # (batch, seq_len, 1)\n",
    "        \n",
    "        if attention_mask is not None:\n",
    "            mask = attention_mask.unsqueeze(-1)                                                 # (batch, seq_len, 1)\n",
    "            Score = Score.masked_fill(mask == 0, float('-inf'))                                 # (batch, seq_len, 1)\n",
    "            \n",
    "        attention_weights = F.softmax(Score, dim = 1)                                           # (batch, seq_len, 1)\n",
    "\n",
    "        context = (attention_weights * encoder_outputs).sum(dim=1)                              # (batch, input_dim)\n",
    "        return context, attention_weights"
   ]
  },
  {
   "cell_type": "markdown",
   "id": "53351c0f-4856-4c07-a97a-cff225970d2e",
   "metadata": {},
   "source": [
    "# Phase - 2"
   ]
  },
  {
   "cell_type": "markdown",
   "id": "dc0f35d4-7bff-430e-a3df-53449ff00c22",
   "metadata": {},
   "source": [
    "## Importing the Dataset"
   ]
  },
  {
   "cell_type": "code",
   "execution_count": 9,
   "id": "3fcb12dc-47ab-4e4c-9bda-fc36518515df",
   "metadata": {
    "execution": {
     "iopub.execute_input": "2025-07-08T04:22:49.062554Z",
     "iopub.status.busy": "2025-07-08T04:22:49.062220Z",
     "iopub.status.idle": "2025-07-08T04:22:50.319783Z",
     "shell.execute_reply": "2025-07-08T04:22:50.318980Z",
     "shell.execute_reply.started": "2025-07-08T04:22:49.062533Z"
    },
    "scrolled": true
   },
   "outputs": [
    {
     "data": {
      "text/plain": [
       "DatasetDict({\n",
       "    train: Dataset({\n",
       "        features: ['text', 'label'],\n",
       "        num_rows: 25000\n",
       "    })\n",
       "    test: Dataset({\n",
       "        features: ['text', 'label'],\n",
       "        num_rows: 25000\n",
       "    })\n",
       "    unsupervised: Dataset({\n",
       "        features: ['text', 'label'],\n",
       "        num_rows: 50000\n",
       "    })\n",
       "})"
      ]
     },
     "execution_count": 9,
     "metadata": {},
     "output_type": "execute_result"
    }
   ],
   "source": [
    "dataset = load_dataset(location)\n",
    "dataset"
   ]
  },
  {
   "cell_type": "code",
   "execution_count": 10,
   "id": "e3277213-e021-44ea-b14c-e9fd5a09ea81",
   "metadata": {
    "execution": {
     "iopub.execute_input": "2025-07-08T04:22:54.950570Z",
     "iopub.status.busy": "2025-07-08T04:22:54.950097Z",
     "iopub.status.idle": "2025-07-08T04:22:55.145202Z",
     "shell.execute_reply": "2025-07-08T04:22:55.144318Z",
     "shell.execute_reply.started": "2025-07-08T04:22:54.950522Z"
    }
   },
   "outputs": [
    {
     "data": {
      "text/html": [
       "<div>\n",
       "<style scoped>\n",
       "    .dataframe tbody tr th:only-of-type {\n",
       "        vertical-align: middle;\n",
       "    }\n",
       "\n",
       "    .dataframe tbody tr th {\n",
       "        vertical-align: top;\n",
       "    }\n",
       "\n",
       "    .dataframe thead th {\n",
       "        text-align: right;\n",
       "    }\n",
       "</style>\n",
       "<table border=\"1\" class=\"dataframe\">\n",
       "  <thead>\n",
       "    <tr style=\"text-align: right;\">\n",
       "      <th></th>\n",
       "      <th>text</th>\n",
       "      <th>label</th>\n",
       "    </tr>\n",
       "  </thead>\n",
       "  <tbody>\n",
       "    <tr>\n",
       "      <th>0</th>\n",
       "      <td>I rented I AM CURIOUS-YELLOW from my video sto...</td>\n",
       "      <td>0</td>\n",
       "    </tr>\n",
       "    <tr>\n",
       "      <th>1</th>\n",
       "      <td>\"I Am Curious: Yellow\" is a risible and preten...</td>\n",
       "      <td>0</td>\n",
       "    </tr>\n",
       "    <tr>\n",
       "      <th>2</th>\n",
       "      <td>If only to avoid making this type of film in t...</td>\n",
       "      <td>0</td>\n",
       "    </tr>\n",
       "    <tr>\n",
       "      <th>3</th>\n",
       "      <td>This film was probably inspired by Godard's Ma...</td>\n",
       "      <td>0</td>\n",
       "    </tr>\n",
       "    <tr>\n",
       "      <th>4</th>\n",
       "      <td>Oh, brother...after hearing about this ridicul...</td>\n",
       "      <td>0</td>\n",
       "    </tr>\n",
       "    <tr>\n",
       "      <th>...</th>\n",
       "      <td>...</td>\n",
       "      <td>...</td>\n",
       "    </tr>\n",
       "    <tr>\n",
       "      <th>24995</th>\n",
       "      <td>A hit at the time but now better categorised a...</td>\n",
       "      <td>1</td>\n",
       "    </tr>\n",
       "    <tr>\n",
       "      <th>24996</th>\n",
       "      <td>I love this movie like no other. Another time ...</td>\n",
       "      <td>1</td>\n",
       "    </tr>\n",
       "    <tr>\n",
       "      <th>24997</th>\n",
       "      <td>This film and it's sequel Barry Mckenzie holds...</td>\n",
       "      <td>1</td>\n",
       "    </tr>\n",
       "    <tr>\n",
       "      <th>24998</th>\n",
       "      <td>'The Adventures Of Barry McKenzie' started lif...</td>\n",
       "      <td>1</td>\n",
       "    </tr>\n",
       "    <tr>\n",
       "      <th>24999</th>\n",
       "      <td>The story centers around Barry McKenzie who mu...</td>\n",
       "      <td>1</td>\n",
       "    </tr>\n",
       "  </tbody>\n",
       "</table>\n",
       "<p>25000 rows × 2 columns</p>\n",
       "</div>"
      ],
      "text/plain": [
       "                                                    text  label\n",
       "0      I rented I AM CURIOUS-YELLOW from my video sto...      0\n",
       "1      \"I Am Curious: Yellow\" is a risible and preten...      0\n",
       "2      If only to avoid making this type of film in t...      0\n",
       "3      This film was probably inspired by Godard's Ma...      0\n",
       "4      Oh, brother...after hearing about this ridicul...      0\n",
       "...                                                  ...    ...\n",
       "24995  A hit at the time but now better categorised a...      1\n",
       "24996  I love this movie like no other. Another time ...      1\n",
       "24997  This film and it's sequel Barry Mckenzie holds...      1\n",
       "24998  'The Adventures Of Barry McKenzie' started lif...      1\n",
       "24999  The story centers around Barry McKenzie who mu...      1\n",
       "\n",
       "[25000 rows x 2 columns]"
      ]
     },
     "execution_count": 10,
     "metadata": {},
     "output_type": "execute_result"
    }
   ],
   "source": [
    "train_df = dataset[\"train\"].to_pandas()\n",
    "test_df = dataset[\"test\"].to_pandas()\n",
    "train_df"
   ]
  },
  {
   "cell_type": "markdown",
   "id": "b7c397fc-6bb6-403c-b851-b27be499bc08",
   "metadata": {},
   "source": [
    "## Text Cleaning"
   ]
  },
  {
   "cell_type": "code",
   "execution_count": 11,
   "id": "05148b1c-7b8d-4c4e-ba10-2fc78b0ceac7",
   "metadata": {
    "execution": {
     "iopub.execute_input": "2025-07-08T04:23:04.261751Z",
     "iopub.status.busy": "2025-07-08T04:23:04.261398Z",
     "iopub.status.idle": "2025-07-08T04:23:04.266959Z",
     "shell.execute_reply": "2025-07-08T04:23:04.266047Z",
     "shell.execute_reply.started": "2025-07-08T04:23:04.261729Z"
    }
   },
   "outputs": [],
   "source": [
    "def clean_text(text):\n",
    "    text = re.sub(r'<.*?>', '', text)             # remove HTML tags\n",
    "    text = re.sub(r'http\\S+', '', text)           # remove URLs\n",
    "    text = re.sub(r'[\\n\\r\\t]+',' ',text)          # remove \"\\n\" and \"\\r\"\n",
    "    text = re.sub(r'[^a-zA-Z0-9., ]', ' ', text)  # Keeps only alphabets and numbers\n",
    "    text = re.sub(r'\\s\\s+',' ',text)              # remove extra space\n",
    "    return text.lower().strip()"
   ]
  },
  {
   "cell_type": "code",
   "execution_count": 12,
   "id": "99389ba1-7176-4cda-880a-a871d01f3f1a",
   "metadata": {
    "execution": {
     "iopub.execute_input": "2025-07-08T04:23:13.332213Z",
     "iopub.status.busy": "2025-07-08T04:23:13.331264Z",
     "iopub.status.idle": "2025-07-08T04:23:16.727797Z",
     "shell.execute_reply": "2025-07-08T04:23:16.726868Z",
     "shell.execute_reply.started": "2025-07-08T04:23:13.332170Z"
    }
   },
   "outputs": [
    {
     "data": {
      "text/html": [
       "<div>\n",
       "<style scoped>\n",
       "    .dataframe tbody tr th:only-of-type {\n",
       "        vertical-align: middle;\n",
       "    }\n",
       "\n",
       "    .dataframe tbody tr th {\n",
       "        vertical-align: top;\n",
       "    }\n",
       "\n",
       "    .dataframe thead th {\n",
       "        text-align: right;\n",
       "    }\n",
       "</style>\n",
       "<table border=\"1\" class=\"dataframe\">\n",
       "  <thead>\n",
       "    <tr style=\"text-align: right;\">\n",
       "      <th></th>\n",
       "      <th>text</th>\n",
       "      <th>label</th>\n",
       "    </tr>\n",
       "  </thead>\n",
       "  <tbody>\n",
       "    <tr>\n",
       "      <th>0</th>\n",
       "      <td>i rented i am curious yellow from my video sto...</td>\n",
       "      <td>0</td>\n",
       "    </tr>\n",
       "    <tr>\n",
       "      <th>1</th>\n",
       "      <td>i am curious yellow is a risible and pretentio...</td>\n",
       "      <td>0</td>\n",
       "    </tr>\n",
       "    <tr>\n",
       "      <th>2</th>\n",
       "      <td>if only to avoid making this type of film in t...</td>\n",
       "      <td>0</td>\n",
       "    </tr>\n",
       "    <tr>\n",
       "      <th>3</th>\n",
       "      <td>this film was probably inspired by godard s ma...</td>\n",
       "      <td>0</td>\n",
       "    </tr>\n",
       "    <tr>\n",
       "      <th>4</th>\n",
       "      <td>oh, brother...after hearing about this ridicul...</td>\n",
       "      <td>0</td>\n",
       "    </tr>\n",
       "    <tr>\n",
       "      <th>...</th>\n",
       "      <td>...</td>\n",
       "      <td>...</td>\n",
       "    </tr>\n",
       "    <tr>\n",
       "      <th>24995</th>\n",
       "      <td>a hit at the time but now better categorised a...</td>\n",
       "      <td>1</td>\n",
       "    </tr>\n",
       "    <tr>\n",
       "      <th>24996</th>\n",
       "      <td>i love this movie like no other. another time ...</td>\n",
       "      <td>1</td>\n",
       "    </tr>\n",
       "    <tr>\n",
       "      <th>24997</th>\n",
       "      <td>this film and it s sequel barry mckenzie holds...</td>\n",
       "      <td>1</td>\n",
       "    </tr>\n",
       "    <tr>\n",
       "      <th>24998</th>\n",
       "      <td>the adventures of barry mckenzie started life ...</td>\n",
       "      <td>1</td>\n",
       "    </tr>\n",
       "    <tr>\n",
       "      <th>24999</th>\n",
       "      <td>the story centers around barry mckenzie who mu...</td>\n",
       "      <td>1</td>\n",
       "    </tr>\n",
       "  </tbody>\n",
       "</table>\n",
       "<p>25000 rows × 2 columns</p>\n",
       "</div>"
      ],
      "text/plain": [
       "                                                    text  label\n",
       "0      i rented i am curious yellow from my video sto...      0\n",
       "1      i am curious yellow is a risible and pretentio...      0\n",
       "2      if only to avoid making this type of film in t...      0\n",
       "3      this film was probably inspired by godard s ma...      0\n",
       "4      oh, brother...after hearing about this ridicul...      0\n",
       "...                                                  ...    ...\n",
       "24995  a hit at the time but now better categorised a...      1\n",
       "24996  i love this movie like no other. another time ...      1\n",
       "24997  this film and it s sequel barry mckenzie holds...      1\n",
       "24998  the adventures of barry mckenzie started life ...      1\n",
       "24999  the story centers around barry mckenzie who mu...      1\n",
       "\n",
       "[25000 rows x 2 columns]"
      ]
     },
     "execution_count": 12,
     "metadata": {},
     "output_type": "execute_result"
    }
   ],
   "source": [
    "train_df[\"text\"] = train_df[\"text\"].apply(clean_text)\n",
    "test_df[\"text\"] = test_df[\"text\"].apply(clean_text)\n",
    "train_df"
   ]
  },
  {
   "cell_type": "markdown",
   "id": "cdf825cb-41fd-4e10-9077-efb8bd720721",
   "metadata": {},
   "source": [
    "## Data Analysis"
   ]
  },
  {
   "cell_type": "code",
   "execution_count": 13,
   "id": "bd68113b-7e16-42cf-852d-e96e560f8f7b",
   "metadata": {
    "execution": {
     "iopub.execute_input": "2025-07-08T04:23:23.992777Z",
     "iopub.status.busy": "2025-07-08T04:23:23.992481Z",
     "iopub.status.idle": "2025-07-08T04:23:24.322881Z",
     "shell.execute_reply": "2025-07-08T04:23:24.322126Z",
     "shell.execute_reply.started": "2025-07-08T04:23:23.992755Z"
    }
   },
   "outputs": [
    {
     "data": {
      "image/png": "[encoded data removed]",
      "text/plain": [
       "<Figure size 1200x600 with 2 Axes>"
      ]
     },
     "metadata": {},
     "output_type": "display_data"
    }
   ],
   "source": [
    "train_counts = train_df['label'].value_counts()\n",
    "test_counts = test_df[\"label\"].value_counts()\n",
    "# Plot pie chart\n",
    "fig, axs = plt.subplots(1, 2, figsize=(12, 6))\n",
    "train_counts.plot.pie(ax = axs[0], autopct='%1.1f%%', startangle=90)\n",
    "test_counts.plot.pie(ax = axs[1], autopct='%1.1f%%', startangle=90)\n",
    "axs[0].set_title('Train Data')\n",
    "axs[0].set_ylabel('')\n",
    "axs[1].set_title('Test Data')\n",
    "axs[1].set_ylabel('')\n",
    "plt.show()"
   ]
  },
  {
   "cell_type": "markdown",
   "id": "7a614b6a-cb38-4e31-b7d5-c22779a047e2",
   "metadata": {},
   "source": [
    "Both the train and test dataset has exactly 50% positives and 50% negatives, in total we have 25,000 positve examples and 25% negative examples."
   ]
  },
  {
   "cell_type": "code",
   "execution_count": 14,
   "id": "bee2c90c-1dab-49f8-aad0-fa439301e8c7",
   "metadata": {
    "execution": {
     "iopub.execute_input": "2025-07-08T04:23:27.658963Z",
     "iopub.status.busy": "2025-07-08T04:23:27.658174Z",
     "iopub.status.idle": "2025-07-08T04:23:28.785204Z",
     "shell.execute_reply": "2025-07-08T04:23:28.784215Z",
     "shell.execute_reply.started": "2025-07-08T04:23:27.658938Z"
    }
   },
   "outputs": [
    {
     "data": {
      "image/png": "[encoded data removed]",
      "text/plain": [
       "<Figure size 1600x800 with 2 Axes>"
      ]
     },
     "metadata": {},
     "output_type": "display_data"
    },
    {
     "name": "stdout",
     "output_type": "stream",
     "text": [
      "Train: 16.476 %\n",
      "Test: 15.656 %\n"
     ]
    }
   ],
   "source": [
    "train_df['word_count'] = train_df['text'].apply(lambda x: len(x.split()))\n",
    "test_df['word_count'] = test_df['text'].apply(lambda x: len(x.split()))\n",
    "\n",
    "fig, axs = plt.subplots(1, 2, figsize=(16, 8))\n",
    "axs[0].hist(train_df['word_count'], bins=100, color='skyblue', edgecolor='black')\n",
    "axs[1].hist(test_df['word_count'], bins=100, color='skyblue', edgecolor='black')\n",
    "axs[0].set_title('Train Data')\n",
    "axs[0].set_ylabel('Number of Reviews')\n",
    "axs[0].set_xlabel(\"Number of Words\")\n",
    "axs[1].set_title('Test Data')\n",
    "axs[1].set_ylabel('Number of Reviews')\n",
    "axs[1].set_xlabel(\"Number of Words\")\n",
    "plt.show()\n",
    "train_count = (train_df[\"word_count\"].to_numpy() >= 365).sum()   # 365 x 1.4 = 511\n",
    "test_count = (test_df[\"word_count\"].to_numpy() >= 365).sum()\n",
    "print(\"Train:\", train_count/25000 *100,\"%\")\n",
    "print(\"Test:\", test_count/25000 *100,\"%\")"
   ]
  },
  {
   "cell_type": "markdown",
   "id": "0cf5edb3-cae0-41df-a919-9bbc26b500a7",
   "metadata": {},
   "source": [
    "I intended to use a BERT tokenizer to tokenize the text, while using a custom embedding layer instead of BERT's pretrained embeddings. The model is designed to accept a maximum of 512 time steps. Since the BERT tokenizer produces approximately 1.4 tokens per word on average, this corresponds to about $512 / 1.4 ≈ 365$ words. Around 15–16% of the dataset contains samples with at least 365 words, meaning these samples will be truncated to fit the input limit. For the majority of the dataset, however, the model will process the full input sequence without truncation."
   ]
  },
  {
   "cell_type": "markdown",
   "id": "d9deb7b2-4f66-4f9e-9e21-00b316ff1e72",
   "metadata": {},
   "source": [
    "## DataLoader"
   ]
  },
  {
   "cell_type": "code",
   "execution_count": 15,
   "id": "f40801e4-8e13-47ac-b1d7-07097739a4d0",
   "metadata": {
    "execution": {
     "iopub.execute_input": "2025-07-08T04:23:33.027913Z",
     "iopub.status.busy": "2025-07-08T04:23:33.027624Z",
     "iopub.status.idle": "2025-07-08T04:23:33.033750Z",
     "shell.execute_reply": "2025-07-08T04:23:33.032883Z",
     "shell.execute_reply.started": "2025-07-08T04:23:33.027891Z"
    }
   },
   "outputs": [],
   "source": [
    "class SentimentDataset(Dataset):\n",
    "    def __init__(self, texts, labels, tokenizer):\n",
    "        self.texts = texts\n",
    "        self.labels = labels\n",
    "        self.tokenizer = tokenizer\n",
    "    \n",
    "    def __len__(self):\n",
    "        return len(self.texts)\n",
    "        \n",
    "    def __getitem__(self, index):\n",
    "        text = self.texts[index]\n",
    "        label = self.labels[index]\n",
    "        encoding = self.tokenizer(\n",
    "            text,\n",
    "            padding='max_length',\n",
    "            truncation=True,\n",
    "            max_length=512,\n",
    "            return_tensors='pt'\n",
    "        )\n",
    "        return {\n",
    "            'input_ids': encoding['input_ids'].squeeze(),\n",
    "            'attention_mask': encoding['attention_mask'].squeeze(),\n",
    "            'label': torch.tensor(label, dtype=torch.float32)\n",
    "        }"
   ]
  },
  {
   "cell_type": "markdown",
   "id": "7d3ddfe0-c8cf-4374-8abd-e2d2a77f4162",
   "metadata": {},
   "source": [
    "## Model Definitions"
   ]
  },
  {
   "cell_type": "markdown",
   "id": "af0ba0f0-1315-40ff-9263-a81684089c34",
   "metadata": {},
   "source": [
    "### Configurable RNN Model"
   ]
  },
  {
   "cell_type": "code",
   "execution_count": 16,
   "id": "fbcd2a8a-d825-43ec-9171-4b41cbbc9cb7",
   "metadata": {
    "execution": {
     "iopub.execute_input": "2025-07-08T04:23:43.714203Z",
     "iopub.status.busy": "2025-07-08T04:23:43.713933Z",
     "iopub.status.idle": "2025-07-08T04:23:43.721171Z",
     "shell.execute_reply": "2025-07-08T04:23:43.720584Z",
     "shell.execute_reply.started": "2025-07-08T04:23:43.714182Z"
    }
   },
   "outputs": [],
   "source": [
    "class AttentiveRNN(nn.Module):\n",
    "    def __init__(self, hidden_dim, vocab_size, embed_dim, attention, bidirectional = False):\n",
    "        super().__init__()\n",
    "        self.hidden_dim = hidden_dim\n",
    "        if bidirectional:\n",
    "            self.output_dim = self.hidden_dim * 2\n",
    "        else:\n",
    "            self.output_dim = self.hidden_dim\n",
    "        self.rnn = nn.RNN(embed_dim, hidden_dim, batch_first=True, bidirectional = bidirectional)\n",
    "        self.embedding = nn.Embedding(vocab_size, embed_dim, padding_idx=0)\n",
    "        self.attention = attention\n",
    "        self.output = nn.Linear(self.output_dim, 1)\n",
    "        self.dropout = nn.Dropout(0.3)\n",
    "\n",
    "    def forward(self, x, attention_mask = None):                                                                      # x: (batch, seq_len)\n",
    "        x = self.embedding(x)\n",
    "        encoder_outputs, last_hidden_state = self.rnn(x)\n",
    "        # encoder_outputs: (batch, seq_len, output_dim)\n",
    "        # last_hidden_state: (directions, batch, hidden_dim)\n",
    "        batch, seq_len, _ = encoder_outputs.shape\n",
    "        if self.attention is not None:\n",
    "            context, attn_weights = self.attention(encoder_outputs, last_hidden_state, attention_mask)\n",
    "            # context: (batch, output_dim)\n",
    "            # attn_weights: (batch, seq_len, 1)\n",
    "            context = self.dropout(context)\n",
    "        else:\n",
    "            context = last_hidden_state.permute(1, 0, 2).contiguous()                     # (batch, directions, hidden_state_dim)\n",
    "            context = context.view(context.size(0), -1)                                   # (batch, output_dim)\n",
    "            attn_weights = torch.full((batch, seq_len, 1), 1.0 / seq_len, device=encoder_outputs.device, dtype=encoder_outputs.dtype)\n",
    "            \n",
    "        out = self.output(context)\n",
    "        return out.squeeze(1), attn_weights.squeeze(2)"
   ]
  },
  {
   "cell_type": "markdown",
   "id": "5914d251-6a88-40e6-8503-47e32d11fb4b",
   "metadata": {},
   "source": [
    "### Configurable LSTM Model"
   ]
  },
  {
   "cell_type": "code",
   "execution_count": 90,
   "id": "dd9172bc-3aa6-459d-a1df-c093f8f3327d",
   "metadata": {
    "execution": {
     "iopub.execute_input": "2025-07-08T08:30:10.364240Z",
     "iopub.status.busy": "2025-07-08T08:30:10.363845Z",
     "iopub.status.idle": "2025-07-08T08:30:10.375239Z",
     "shell.execute_reply": "2025-07-08T08:30:10.374581Z",
     "shell.execute_reply.started": "2025-07-08T08:30:10.364198Z"
    }
   },
   "outputs": [],
   "source": [
    "class AttentiveLSTM(nn.Module):\n",
    "    def __init__(self, hidden_dim, vocab_size, embed_dim, attention, bidirectional = False):\n",
    "        super().__init__()\n",
    "        self.hidden_dim = hidden_dim\n",
    "        if bidirectional:\n",
    "            self.output_dim = self.hidden_dim * 2\n",
    "        else:\n",
    "            self.output_dim = self.hidden_dim\n",
    "        self.rnn = nn.LSTM(embed_dim, hidden_dim, batch_first=True, bidirectional = bidirectional)\n",
    "        self.embedding = nn.Embedding(vocab_size, embed_dim, padding_idx=0)\n",
    "        self.attention = attention\n",
    "        self.output = nn.Linear(self.output_dim, 1)\n",
    "        self.dropout = nn.Dropout(0.3)\n",
    "\n",
    "    def forward(self, x, attention_mask):                                                                      # x: (batch, seq_len)\n",
    "        x = self.embedding(x)\n",
    "        encoder_outputs, (last_hidden_state, last_cell_state) = self.rnn(x)\n",
    "        # encoder_outputs: (batch, seq_len, output_dim)\n",
    "        # last_hidden_state: (directions, batch, hidden_dim)\n",
    "        batch, seq_len, _ = encoder_outputs.shape\n",
    "        if self.attention is not None:\n",
    "            context, attn_weights = self.attention(encoder_outputs, last_hidden_state, attention_mask)\n",
    "            # context: (batch, output_dim)\n",
    "            # attn_weights: (batch, seq_len, 1)\n",
    "            context = self.dropout(context)\n",
    "        else:\n",
    "            context = last_hidden_state.permute(1, 0, 2).contiguous()                     # (batch, directions, hidden_state_dim)\n",
    "            context = context.view(context.size(0), -1)                                   # (batch, output_dim)\n",
    "            attn_weights = torch.full((batch, seq_len, 1), 1.0 / seq_len, device=encoder_outputs.device, dtype=encoder_outputs.dtype)\n",
    "            \n",
    "        out = self.output(context)\n",
    "        return out.squeeze(1), attn_weights.squeeze(2)"
   ]
  },
  {
   "cell_type": "markdown",
   "id": "bede8112-45e2-4c10-a3c3-0dbc111fd3e3",
   "metadata": {},
   "source": [
    "## Train, Dev, Test Split"
   ]
  },
  {
   "cell_type": "markdown",
   "id": "1389104d-2191-4da3-9c4a-846e576dffc7",
   "metadata": {},
   "source": [
    "Since both the original training and test sets contain 25,000 samples each, I first merge them into a single dataset of 50,000, and then split it into 40,000 for training, 5,000 for validation, and 5,000 for testing."
   ]
  },
  {
   "cell_type": "code",
   "execution_count": 19,
   "id": "0b8a72cf-6439-40c9-a74c-89c556c9fedc",
   "metadata": {
    "execution": {
     "iopub.execute_input": "2025-07-08T04:23:56.725255Z",
     "iopub.status.busy": "2025-07-08T04:23:56.724988Z",
     "iopub.status.idle": "2025-07-08T04:23:57.061932Z",
     "shell.execute_reply": "2025-07-08T04:23:57.061116Z",
     "shell.execute_reply.started": "2025-07-08T04:23:56.725235Z"
    }
   },
   "outputs": [
    {
     "name": "stdout",
     "output_type": "stream",
     "text": [
      "Train Size: 40000\n",
      "Dev Size: 5000\n",
      "Test Size: 5000\n"
     ]
    }
   ],
   "source": [
    "random_state = 42\n",
    "tokenizer = BertTokenizer.from_pretrained(bert_model)\n",
    "texts = train_df[\"text\"].tolist() + test_df[\"text\"].tolist()\n",
    "labels = train_df[\"label\"].tolist() + test_df[\"label\"].tolist()\n",
    "\n",
    "train_texts, temp_texts, train_labels, temp_labels = train_test_split(\n",
    "    texts, labels, test_size=0.2, random_state=random_state, stratify = labels\n",
    ")\n",
    "\n",
    "dev_texts, test_texts, dev_labels, test_labels = train_test_split(\n",
    "    temp_texts, temp_labels, test_size=0.5, random_state=random_state, stratify=temp_labels\n",
    ")\n",
    "print(f\"Train Size: {len(train_texts)}\")\n",
    "print(f\"Dev Size: {len(dev_texts)}\")\n",
    "print(f\"Test Size: {len(test_texts)}\")\n",
    "\n",
    "train_dataset = SentimentDataset(train_texts, train_labels, tokenizer)\n",
    "dev_dataset   = SentimentDataset(dev_texts, dev_labels, tokenizer)\n",
    "test_dataset  = SentimentDataset(test_texts, test_labels, tokenizer)\n",
    "\n",
    "train_loader = DataLoader(train_dataset, batch_size = batch_size, shuffle=True, num_workers=num_workers, pin_memory=pin_memory)\n",
    "dev_loader   = DataLoader(dev_dataset, batch_size = batch_size)\n",
    "test_loader  = DataLoader(test_dataset, batch_size = batch_size)"
   ]
  },
  {
   "cell_type": "markdown",
   "id": "e7f32845-3389-4c93-bb10-85ca4a144273",
   "metadata": {},
   "source": [
    "### Data Analysis on Train, Dev, Test Sets"
   ]
  },
  {
   "cell_type": "code",
   "execution_count": 20,
   "id": "ee72bcfb-501e-45c2-9001-4a0dd64396ae",
   "metadata": {
    "execution": {
     "iopub.execute_input": "2025-07-08T04:24:02.332757Z",
     "iopub.status.busy": "2025-07-08T04:24:02.332036Z",
     "iopub.status.idle": "2025-07-08T04:24:03.607578Z",
     "shell.execute_reply": "2025-07-08T04:24:03.606694Z",
     "shell.execute_reply.started": "2025-07-08T04:24:02.332732Z"
    }
   },
   "outputs": [
    {
     "data": {
      "image/png": "[encoded data removed]",
      "text/plain": [
       "<Figure size 1800x600 with 3 Axes>"
      ]
     },
     "metadata": {},
     "output_type": "display_data"
    },
    {
     "name": "stdout",
     "output_type": "stream",
     "text": [
      "Train:  25.62%\n",
      "Dev: 16.02%\n",
      "Test: 16.52%\n"
     ]
    }
   ],
   "source": [
    "train_wc = np.array([len(text.split()) for text in train_texts])\n",
    "dev_wc = np.array([len(text.split()) for text in dev_texts])\n",
    "test_wc = np.array([len(text.split()) for text in test_texts])\n",
    "\n",
    "fig, axs = plt.subplots(1, 3, figsize=(18, 6))\n",
    "axs[0].hist(train_wc, bins=100, color='skyblue', edgecolor='black')\n",
    "axs[1].hist(dev_wc, bins=100, color='skyblue', edgecolor='black')\n",
    "axs[2].hist(test_wc, bins=100, color='skyblue', edgecolor='black')\n",
    "axs[0].set_title('Train Data')\n",
    "axs[0].set_ylabel('Number of Reviews')\n",
    "axs[0].set_xlabel(\"Number of Words\")\n",
    "axs[1].set_title('Dev Data')\n",
    "axs[1].set_ylabel('Number of Reviews')\n",
    "axs[1].set_xlabel(\"Number of Words\")\n",
    "axs[2].set_title('Test Data')\n",
    "axs[2].set_ylabel('Number of Reviews')\n",
    "axs[2].set_xlabel(\"Number of Words\")\n",
    "plt.show()\n",
    "train_count = (train_wc >= 365).sum()   # 365 x 1.4 = 511\n",
    "dev_count = (dev_wc >= 365).sum()\n",
    "test_count = (test_wc >= 365).sum()\n",
    "print(f\"Train: {train_count/25000 *100: .2f}%\")\n",
    "print(f\"Dev: {dev_count/5000 *100:.2f}%\")\n",
    "print(f\"Test: {test_count/5000 *100:.2f}%\")"
   ]
  },
  {
   "cell_type": "markdown",
   "id": "8ee28411-b8b9-4d81-bd8b-07e9b93b4586",
   "metadata": {},
   "source": [
    "After splitting the data into training, dev, and test sets, about 25% of the training samples and 16% of the dev and test samples were cut off because they were too long."
   ]
  },
  {
   "cell_type": "markdown",
   "id": "719da726-582a-46fd-9ee7-f3951b7ad0a3",
   "metadata": {},
   "source": [
    "## Training and Evaulating Functions"
   ]
  },
  {
   "cell_type": "code",
   "execution_count": 21,
   "id": "06b158c3-91d7-40c5-b002-6ad9dffb7368",
   "metadata": {
    "execution": {
     "iopub.execute_input": "2025-07-08T04:24:29.489211Z",
     "iopub.status.busy": "2025-07-08T04:24:29.488931Z",
     "iopub.status.idle": "2025-07-08T04:24:29.497208Z",
     "shell.execute_reply": "2025-07-08T04:24:29.496458Z",
     "shell.execute_reply.started": "2025-07-08T04:24:29.489189Z"
    }
   },
   "outputs": [],
   "source": [
    "def train (model, device, criterion, optimizer, train_epochs = 10, pre_epochs =0):\n",
    "    print(f\"{'Progress':<14}{'Epoch':<10}{'Loss':<12}{'Accuracy':<16}{'training time per epoch'}\")\n",
    "    train_start = time.time()\n",
    "    for epoch in range(train_epochs):\n",
    "        start = time.time()\n",
    "        model.train()\n",
    "        total_loss = 0.0\n",
    "        predicted = []\n",
    "        target = []\n",
    "    \n",
    "        for i, batch in enumerate(train_loader):\n",
    "            if i % 10 == 0:\n",
    "                print(f\"\\r{(i+1)//10:<16}\", end=\"\")\n",
    "    \n",
    "            input_ids = batch[\"input_ids\"].to(device)\n",
    "            attention_masks = batch[\"attention_mask\"].to(device)\n",
    "            labels = batch[\"label\"].to(device)\n",
    "    \n",
    "            # Forward pass\n",
    "            optimizer.zero_grad()\n",
    "            outputs, _ = model(input_ids, attention_masks)  # (batch,)\n",
    "    \n",
    "            # Compute loss and backprop\n",
    "            loss = criterion(outputs, labels.float())\n",
    "            loss.backward()\n",
    "            optimizer.step()\n",
    "    \n",
    "            total_loss += loss.item()\n",
    "    \n",
    "            # Convert predictions to binary\n",
    "            preds = (outputs > 0.5).long().cpu().tolist()\n",
    "            true = labels.long().cpu().tolist()\n",
    "            predicted.extend(preds)\n",
    "            target.extend(true)\n",
    "    \n",
    "        acc = accuracy_score(target, predicted)\n",
    "        print(f\"{pre_epochs + epoch + 1:<6}{total_loss:<14.4f}{acc * 100:.2f}%{time.time() - start:>20.2f} sec\")\n",
    "    seconds = time.time() - train_start\n",
    "    minutes, seconds = divmod(seconds, 60)\n",
    "    hours, minutes = divmod(minutes, 60)\n",
    "    print(\"\\n\")\n",
    "    print(f\"Total Train Time: {int(hours)}h {int(minutes)}m {int(seconds)}s\")"
   ]
  },
  {
   "cell_type": "code",
   "execution_count": 22,
   "id": "1fe2772d-c646-4e97-98d3-70809c0eee91",
   "metadata": {
    "execution": {
     "iopub.execute_input": "2025-07-08T04:24:33.301960Z",
     "iopub.status.busy": "2025-07-08T04:24:33.301681Z",
     "iopub.status.idle": "2025-07-08T04:24:33.310249Z",
     "shell.execute_reply": "2025-07-08T04:24:33.309466Z",
     "shell.execute_reply.started": "2025-07-08T04:24:33.301939Z"
    }
   },
   "outputs": [],
   "source": [
    "def eval(model, device, loader):\n",
    "    model.eval()\n",
    "\n",
    "    predicted = []\n",
    "    targets = []\n",
    "\n",
    "    with torch.no_grad():\n",
    "        for batch in loader:\n",
    "            input_ids = batch[\"input_ids\"].to(device)\n",
    "            attention_masks = batch[\"attention_mask\"].to(device)\n",
    "            labels = batch[\"label\"].to(device)\n",
    "\n",
    "            outputs, _ = model(input_ids, attention_masks)     # [batch_size]\n",
    "            outputs = torch.sigmoid(outputs)\n",
    "            preds = (outputs > 0.5).long()                     # [batch_size] → binary preds\n",
    "\n",
    "            predicted.extend(preds.tolist())                   # accumulate predictions\n",
    "            targets.extend(labels.tolist())\n",
    "\n",
    "    # Evaluation\n",
    "    accuracy = accuracy_score(predicted, targets)\n",
    "    \n",
    "    # Macro metrics\n",
    "    precision_macro = precision_score(predicted, targets, average='macro')\n",
    "    recall_macro = recall_score(predicted, targets, average='macro')\n",
    "    f1_macro = f1_score(predicted, targets, average='macro')\n",
    "    \n",
    "    # Micro metrics\n",
    "    precision_micro = precision_score(predicted, targets, average='micro')\n",
    "    recall_micro = recall_score(predicted, targets, average='micro')\n",
    "    f1_micro = f1_score(predicted, targets, average='micro')\n",
    "    \n",
    "    # Confusion Matrix\n",
    "    conf_matrix = confusion_matrix(predicted, targets)\n",
    "    \n",
    "    # HTML Table\n",
    "    html_table = f\"\"\"\n",
    "    <table style=\"width:50%; border-collapse: collapse; font-size: 16px;\">\n",
    "        <thead>\n",
    "            <tr>\n",
    "                <th style=\"border: 1px solid #ddd; padding: 8px;\">Metric</th>\n",
    "                <th style=\"border: 1px solid #ddd; padding: 8px;\">Macro</th>\n",
    "                <th style=\"border: 1px solid #ddd; padding: 8px;\">Micro</th>\n",
    "            </tr>\n",
    "        </thead>\n",
    "        <tbody>\n",
    "            <tr><td style=\"border: 1px solid #ddd; padding: 8px;\">Accuracy</td>\n",
    "                <td colspan=\"2\" style=\"border: 1px solid #ddd; padding: 12px; text-align: center;\">\n",
    "                    <b style=\"font-size: 18px;\">{accuracy*100:.2f}%</b>\n",
    "                </td>\n",
    "            </tr>\n",
    "    \n",
    "            <tr><td style=\"border: 1px solid #ddd; padding: 8px;\">Precision</td>\n",
    "                <td style=\"border: 1px solid #ddd; padding: 8px;\">{precision_macro*100:.2f}%</td>\n",
    "                <td style=\"border: 1px solid #ddd; padding: 8px;\">{precision_micro*100:.2f}%</td></tr>\n",
    "    \n",
    "            <tr><td style=\"border: 1px solid #ddd; padding: 8px;\">Recall</td>\n",
    "                <td style=\"border: 1px solid #ddd; padding: 8px;\">{recall_macro*100:.2f}%</td>\n",
    "                <td style=\"border: 1px solid #ddd; padding: 8px;\">{recall_micro*100:.2f}%</td></tr>\n",
    "    \n",
    "            <tr><td style=\"border: 1px solid #ddd; padding: 8px;\">F1 Score</td>\n",
    "                <td style=\"border: 1px solid #ddd; padding: 8px;\">{f1_macro*100:.2f}%</td>\n",
    "                <td style=\"border: 1px solid #ddd; padding: 8px;\">{f1_micro*100:.2f}%</td></tr>\n",
    "        </tbody>\n",
    "    </table>\n",
    "    \"\"\"\n",
    "\n",
    "    \n",
    "    display(HTML(html_table))\n",
    "    disp = ConfusionMatrixDisplay(confusion_matrix=conf_matrix, display_labels=['Negative', 'Positive'])\n",
    "    disp.plot(cmap='Blues')\n",
    "    plt.title(\"Confusion Matrix\")\n",
    "    plt.show()"
   ]
  },
  {
   "cell_type": "code",
   "execution_count": 23,
   "id": "86b07afb-e8c3-46de-9894-dd90d3c8407d",
   "metadata": {
    "execution": {
     "iopub.execute_input": "2025-07-08T04:24:38.308092Z",
     "iopub.status.busy": "2025-07-08T04:24:38.307821Z",
     "iopub.status.idle": "2025-07-08T04:24:38.313853Z",
     "shell.execute_reply": "2025-07-08T04:24:38.312963Z",
     "shell.execute_reply.started": "2025-07-08T04:24:38.308071Z"
    }
   },
   "outputs": [],
   "source": [
    "def save_model_as_zip(model, model_name, save_dir=\"/kaggle/working\"):\n",
    "    # File paths\n",
    "    model_path = os.path.join(save_dir, f\"{model_name}.pth\")\n",
    "    zip_path = os.path.join(save_dir, f\"{model_name}.zip\")\n",
    "\n",
    "    # Save model\n",
    "    torch.save(model.state_dict(), model_path)\n",
    "\n",
    "    # Zip it\n",
    "    with zipfile.ZipFile(zip_path, 'w', compression=zipfile.ZIP_DEFLATED) as zipf:\n",
    "        zipf.write(model_path, arcname=f\"{model_name}.pth\")\n",
    "\n",
    "    # Remove unzipped .pth file\n",
    "    os.remove(model_path)\n",
    "\n",
    "    # Get zipped size in MB\n",
    "    size_bytes = os.path.getsize(zip_path)\n",
    "    size_mb = size_bytes / (1024 ** 2)\n",
    "\n",
    "    print(f\"{model_name}.zip saved at {zip_path} | Size: {size_mb:.2f} MB\")"
   ]
  },
  {
   "cell_type": "markdown",
   "id": "98235311-bc2b-4d19-baeb-d99cbf9db68f",
   "metadata": {},
   "source": [
    "# Loss Function and Optmizer"
   ]
  },
  {
   "cell_type": "code",
   "execution_count": 24,
   "id": "12d01030-5f2a-4bd0-a3ce-da1160f278a6",
   "metadata": {
    "execution": {
     "iopub.execute_input": "2025-07-08T04:24:43.338893Z",
     "iopub.status.busy": "2025-07-08T04:24:43.338075Z",
     "iopub.status.idle": "2025-07-08T04:24:43.342914Z",
     "shell.execute_reply": "2025-07-08T04:24:43.342231Z",
     "shell.execute_reply.started": "2025-07-08T04:24:43.338863Z"
    }
   },
   "outputs": [],
   "source": [
    "device = torch.device('cuda' if torch.cuda.is_available() else 'cpu')\n",
    "criterion = nn.BCEWithLogitsLoss()"
   ]
  },
  {
   "cell_type": "markdown",
   "id": "4d051786-d983-411c-9eb3-4e68aab3fadc",
   "metadata": {},
   "source": [
    "# RNN Models"
   ]
  },
  {
   "cell_type": "markdown",
   "id": "45788b61-60aa-4c99-a387-1c6012dbc743",
   "metadata": {},
   "source": [
    "## Vanilla RNN"
   ]
  },
  {
   "cell_type": "code",
   "execution_count": 52,
   "id": "c052f279-1348-48d8-a1d3-877647484766",
   "metadata": {
    "execution": {
     "iopub.execute_input": "2025-07-04T11:42:31.615793Z",
     "iopub.status.busy": "2025-07-04T11:42:31.615510Z",
     "iopub.status.idle": "2025-07-04T11:42:31.778275Z",
     "shell.execute_reply": "2025-07-04T11:42:31.777514Z",
     "shell.execute_reply.started": "2025-07-04T11:42:31.615771Z"
    }
   },
   "outputs": [],
   "source": [
    "rnn_model_0 = AttentiveRNN(256, tokenizer.vocab_size, 512, attention = None, bidirectional = False).to(device)\n",
    "optimizer_0 = torch.optim.Adam(rnn_model_0.parameters(), lr=2e-4)"
   ]
  },
  {
   "cell_type": "code",
   "execution_count": 55,
   "id": "efefeeb7-e062-4eac-98ce-b46460ea3f3b",
   "metadata": {
    "execution": {
     "iopub.execute_input": "2025-07-04T11:49:58.993220Z",
     "iopub.status.busy": "2025-07-04T11:49:58.992944Z",
     "iopub.status.idle": "2025-07-04T12:18:27.888319Z",
     "shell.execute_reply": "2025-07-04T12:18:27.887387Z",
     "shell.execute_reply.started": "2025-07-04T11:49:58.993200Z"
    }
   },
   "outputs": [
    {
     "name": "stdout",
     "output_type": "stream",
     "text": [
      "Progress      Epoch     Loss        Accuracy        training time per epoch\n",
      "62              1     434.2820      50.19%               86.13 sec\n",
      "62              2     433.2283      50.57%               86.71 sec\n",
      "62              3     431.5752      51.31%               86.16 sec\n",
      "62              4     429.7604      51.89%               85.03 sec\n",
      "62              5     428.6606      51.90%               84.98 sec\n",
      "62              6     430.1749      51.73%               84.04 sec\n",
      "62              7     427.0089      52.23%               85.03 sec\n",
      "62              8     423.6775      52.70%               85.83 sec\n",
      "62              9     423.2495      52.83%               85.06 sec\n",
      "62              10    421.4855      52.95%               87.62 sec\n",
      "62              11    418.0811      53.28%               85.97 sec\n",
      "62              12    413.9185      53.74%               85.33 sec\n",
      "62              13    409.3127      54.23%               85.62 sec\n",
      "62              14    420.8127      53.20%               85.40 sec\n",
      "62              15    420.3264      53.14%               84.44 sec\n",
      "62              16    417.0262      53.38%               85.42 sec\n",
      "62              17    417.2092      53.44%               84.82 sec\n",
      "62              18    414.1129      53.73%               84.41 sec\n",
      "62              19    412.3217      53.98%               85.74 sec\n",
      "62              20    413.6011      53.71%               85.14 sec\n",
      "\n",
      "\n",
      "Total Train Time: 0h 28m 28s\n"
     ]
    }
   ],
   "source": [
    "if not load_pre_trained_model:\n",
    "    train(rnn_model_0, device, criterion, optimizer_0, train_epochs =20, pre_epochs = 0)\n",
    "else:\n",
    "    saved_path = os.path.join(saved_dir, \"rnn_model_0.pth\")\n",
    "    rnn_model_0.load_state_dict(torch.load(saved_path))"
   ]
  },
  {
   "cell_type": "markdown",
   "id": "a06c1c47-ca19-400a-90c8-acc57d4e562b",
   "metadata": {},
   "source": [
    "* Total Train Time: 0h 28m 28s\n",
    "* Train Time Per Epoch: 85s ~ 86s\n",
    "* Training Accuracy: 53.71%\n",
    "* Batch size: 64"
   ]
  },
  {
   "cell_type": "code",
   "execution_count": 58,
   "id": "3255ab06-e31a-46ca-90bf-6ef901fe9b69",
   "metadata": {
    "execution": {
     "iopub.execute_input": "2025-07-04T12:19:57.419159Z",
     "iopub.status.busy": "2025-07-04T12:19:57.418899Z",
     "iopub.status.idle": "2025-07-04T12:20:17.223202Z",
     "shell.execute_reply": "2025-07-04T12:20:17.222623Z",
     "shell.execute_reply.started": "2025-07-04T12:19:57.419141Z"
    }
   },
   "outputs": [
    {
     "data": {
      "text/html": [
       "\n",
       "    <table style=\"width:50%; border-collapse: collapse; font-size: 16px;\">\n",
       "        <thead>\n",
       "            <tr>\n",
       "                <th style=\"border: 1px solid #ddd; padding: 8px;\">Metric</th>\n",
       "                <th style=\"border: 1px solid #ddd; padding: 8px;\">Macro</th>\n",
       "                <th style=\"border: 1px solid #ddd; padding: 8px;\">Micro</th>\n",
       "            </tr>\n",
       "        </thead>\n",
       "        <tbody>\n",
       "            <tr><td style=\"border: 1px solid #ddd; padding: 8px;\">Accuracy</td>\n",
       "                <td colspan=\"2\" style=\"border: 1px solid #ddd; padding: 12px; text-align: center;\">\n",
       "                    <b style=\"font-size: 18px;\">49.14%</b>\n",
       "                </td>\n",
       "            </tr>\n",
       "    \n",
       "            <tr><td style=\"border: 1px solid #ddd; padding: 8px;\">Precision</td>\n",
       "                <td style=\"border: 1px solid #ddd; padding: 8px;\">49.14%</td>\n",
       "                <td style=\"border: 1px solid #ddd; padding: 8px;\">49.14%</td></tr>\n",
       "    \n",
       "            <tr><td style=\"border: 1px solid #ddd; padding: 8px;\">Recall</td>\n",
       "                <td style=\"border: 1px solid #ddd; padding: 8px;\">49.14%</td>\n",
       "                <td style=\"border: 1px solid #ddd; padding: 8px;\">49.14%</td></tr>\n",
       "    \n",
       "            <tr><td style=\"border: 1px solid #ddd; padding: 8px;\">F1 Score</td>\n",
       "                <td style=\"border: 1px solid #ddd; padding: 8px;\">49.13%</td>\n",
       "                <td style=\"border: 1px solid #ddd; padding: 8px;\">49.14%</td></tr>\n",
       "        </tbody>\n",
       "    </table>\n",
       "    "
      ],
      "text/plain": [
       "<IPython.core.display.HTML object>"
      ]
     },
     "metadata": {},
     "output_type": "display_data"
    },
    {
     "data": {
      "image/png": "[encoded data removed]",
      "text/plain": [
       "<Figure size 640x480 with 2 Axes>"
      ]
     },
     "metadata": {},
     "output_type": "display_data"
    }
   ],
   "source": [
    "eval(rnn_model_0, device, dev_loader)"
   ]
  },
  {
   "cell_type": "code",
   "execution_count": 59,
   "id": "b614e1d8-5cee-426c-b6e5-bd4fc4f5e5d2",
   "metadata": {
    "execution": {
     "iopub.execute_input": "2025-07-04T12:20:24.941714Z",
     "iopub.status.busy": "2025-07-04T12:20:24.941440Z",
     "iopub.status.idle": "2025-07-04T12:20:28.257060Z",
     "shell.execute_reply": "2025-07-04T12:20:28.256404Z",
     "shell.execute_reply.started": "2025-07-04T12:20:24.941695Z"
    }
   },
   "outputs": [
    {
     "name": "stdout",
     "output_type": "stream",
     "text": [
      "rnn_model_0.zip saved at /kaggle/working/rnn_model_0.zip | Size: 55.91 MB\n"
     ]
    }
   ],
   "source": [
    "if save_model:\n",
    "    save_model_as_zip(rnn_model_0, \"rnn_model_0\")"
   ]
  },
  {
   "cell_type": "markdown",
   "id": "46327e41-c72e-4cb4-a49b-ae9d88f71db9",
   "metadata": {},
   "source": [
    "## RNN with \"dot\" Multiplicative Attention"
   ]
  },
  {
   "cell_type": "code",
   "execution_count": 60,
   "id": "91d27c41-59ca-4ac6-a403-df9ac32bffe5",
   "metadata": {
    "execution": {
     "iopub.execute_input": "2025-07-04T12:20:41.058542Z",
     "iopub.status.busy": "2025-07-04T12:20:41.058248Z",
     "iopub.status.idle": "2025-07-04T12:20:41.220169Z",
     "shell.execute_reply": "2025-07-04T12:20:41.219600Z",
     "shell.execute_reply.started": "2025-07-04T12:20:41.058515Z"
    }
   },
   "outputs": [],
   "source": [
    "attention_1 = MultiplicativeAttentions(256, scoring_function = \"dot\").to(device)\n",
    "rnn_model_1 = AttentiveRNN(256, tokenizer.vocab_size, 512, attention = attention_1, bidirectional = False).to(device)\n",
    "optimizer_1 = torch.optim.Adam(rnn_model_1.parameters(), lr=1e-4)"
   ]
  },
  {
   "cell_type": "code",
   "execution_count": 61,
   "id": "fcf599e3-d3f7-427c-b08c-0ddfae9cc642",
   "metadata": {
    "execution": {
     "iopub.execute_input": "2025-07-04T12:20:48.767321Z",
     "iopub.status.busy": "2025-07-04T12:20:48.767024Z",
     "iopub.status.idle": "2025-07-04T12:49:13.567160Z",
     "shell.execute_reply": "2025-07-04T12:49:13.566227Z",
     "shell.execute_reply.started": "2025-07-04T12:20:48.767289Z"
    }
   },
   "outputs": [
    {
     "name": "stdout",
     "output_type": "stream",
     "text": [
      "Progress      Epoch     Loss        Accuracy        training time per epoch\n",
      "62              1     375.7852      62.32%               87.65 sec\n",
      "62              2     304.5618      74.48%               86.75 sec\n",
      "62              3     270.8043      78.11%               85.22 sec\n",
      "62              4     245.2738      80.84%               86.72 sec\n",
      "62              5     226.4507      82.55%               87.79 sec\n",
      "62              6     210.6167      84.08%               84.89 sec\n",
      "62              7     196.0480      85.44%               85.62 sec\n",
      "62              8     181.9640      86.68%               84.93 sec\n",
      "62              9     168.3646      88.01%               84.20 sec\n",
      "62              10    152.8050      89.33%               84.55 sec\n",
      "62              11    138.4463      90.34%               85.03 sec\n",
      "62              12    124.9529      91.50%               84.38 sec\n",
      "62              13    112.8745      92.34%               84.95 sec\n",
      "62              14    100.5378      93.55%               84.10 sec\n",
      "62              15    90.7674       94.20%               84.60 sec\n",
      "62              16    78.2109       94.96%               84.65 sec\n",
      "62              17    70.3263       95.48%               83.92 sec\n",
      "62              18    64.3460       95.99%               85.22 sec\n",
      "62              19    56.0382       96.53%               85.34 sec\n",
      "62              20    51.3827       96.84%               84.28 sec\n",
      "\n",
      "\n",
      "Total Train Time: 0h 28m 24s\n"
     ]
    }
   ],
   "source": [
    "if not load_pre_trained_model:\n",
    "    train(rnn_model_1, device, criterion, optimizer_1, train_epochs =20, pre_epochs = 0)\n",
    "else:\n",
    "    saved_path = os.path.join(saved_dir, \"rnn_model_1.pth\")\n",
    "    rnn_model_1.load_state_dict(torch.load(saved_path))"
   ]
  },
  {
   "cell_type": "markdown",
   "id": "ab74bad9-028f-422a-9509-f97f8b40544f",
   "metadata": {},
   "source": [
    "* Total Train Time: 0h 28m 24s\n",
    "* Train Time Per Epoch: 84s ~ 87s\n",
    "* Training Accracy: 96.84%\n",
    "* Batch Size: 64"
   ]
  },
  {
   "cell_type": "code",
   "execution_count": 62,
   "id": "5a86651c-6f06-486d-8e32-7f60df500469",
   "metadata": {
    "execution": {
     "iopub.execute_input": "2025-07-04T12:56:20.808539Z",
     "iopub.status.busy": "2025-07-04T12:56:20.808205Z",
     "iopub.status.idle": "2025-07-04T12:56:40.448121Z",
     "shell.execute_reply": "2025-07-04T12:56:40.447491Z",
     "shell.execute_reply.started": "2025-07-04T12:56:20.808511Z"
    }
   },
   "outputs": [
    {
     "data": {
      "text/html": [
       "\n",
       "    <table style=\"width:50%; border-collapse: collapse; font-size: 16px;\">\n",
       "        <thead>\n",
       "            <tr>\n",
       "                <th style=\"border: 1px solid #ddd; padding: 8px;\">Metric</th>\n",
       "                <th style=\"border: 1px solid #ddd; padding: 8px;\">Macro</th>\n",
       "                <th style=\"border: 1px solid #ddd; padding: 8px;\">Micro</th>\n",
       "            </tr>\n",
       "        </thead>\n",
       "        <tbody>\n",
       "            <tr><td style=\"border: 1px solid #ddd; padding: 8px;\">Accuracy</td>\n",
       "                <td colspan=\"2\" style=\"border: 1px solid #ddd; padding: 12px; text-align: center;\">\n",
       "                    <b style=\"font-size: 18px;\">79.98%</b>\n",
       "                </td>\n",
       "            </tr>\n",
       "    \n",
       "            <tr><td style=\"border: 1px solid #ddd; padding: 8px;\">Precision</td>\n",
       "                <td style=\"border: 1px solid #ddd; padding: 8px;\">79.98%</td>\n",
       "                <td style=\"border: 1px solid #ddd; padding: 8px;\">79.98%</td></tr>\n",
       "    \n",
       "            <tr><td style=\"border: 1px solid #ddd; padding: 8px;\">Recall</td>\n",
       "                <td style=\"border: 1px solid #ddd; padding: 8px;\">79.99%</td>\n",
       "                <td style=\"border: 1px solid #ddd; padding: 8px;\">79.98%</td></tr>\n",
       "    \n",
       "            <tr><td style=\"border: 1px solid #ddd; padding: 8px;\">F1 Score</td>\n",
       "                <td style=\"border: 1px solid #ddd; padding: 8px;\">79.98%</td>\n",
       "                <td style=\"border: 1px solid #ddd; padding: 8px;\">79.98%</td></tr>\n",
       "        </tbody>\n",
       "    </table>\n",
       "    "
      ],
      "text/plain": [
       "<IPython.core.display.HTML object>"
      ]
     },
     "metadata": {},
     "output_type": "display_data"
    },
    {
     "data": {
      "image/png": "[encoded data removed]",
      "text/plain": [
       "<Figure size 640x480 with 2 Axes>"
      ]
     },
     "metadata": {},
     "output_type": "display_data"
    }
   ],
   "source": [
    "eval(rnn_model_1, device, dev_loader)"
   ]
  },
  {
   "cell_type": "markdown",
   "id": "b270fde4-4111-4694-9e38-56fbda0a1e55",
   "metadata": {},
   "source": [
    "I have also trained with 128 hidden dimensions too and the results are\n",
    "\n",
    "**Model Config**: input_dim=512, hidden_dim=128, batch_size=512\n",
    "\n",
    "**Train Acc**: 87.57%\n",
    "\n",
    "**Test Metrics**: \n",
    "**Accuracy**: 73.95% \n",
    "**Precision**: 73.95% \n",
    "**Recall**: 73.99% \n",
    "**F1**: 73.94%\n",
    "\n",
    "**Confusion Matrix**:\n",
    "```bash\n",
    "[[4499 1505]\n",
    " [1751 4745]]\n",
    "```"
   ]
  },
  {
   "cell_type": "code",
   "execution_count": 63,
   "id": "b0684218-5e8c-4687-8061-a0fc45c60aa3",
   "metadata": {
    "execution": {
     "iopub.execute_input": "2025-07-04T12:56:52.362008Z",
     "iopub.status.busy": "2025-07-04T12:56:52.361737Z",
     "iopub.status.idle": "2025-07-04T12:56:55.659677Z",
     "shell.execute_reply": "2025-07-04T12:56:55.658878Z",
     "shell.execute_reply.started": "2025-07-04T12:56:52.361988Z"
    }
   },
   "outputs": [
    {
     "name": "stdout",
     "output_type": "stream",
     "text": [
      "rnn_model_1.zip saved at /kaggle/working/rnn_model_1.zip | Size: 56.60 MB\n"
     ]
    }
   ],
   "source": [
    "if save_model:\n",
    "    save_model_as_zip(rnn_model_1, \"rnn_model_1\")"
   ]
  },
  {
   "cell_type": "markdown",
   "id": "d0fc9b30-b132-47e8-bb5c-6dc96c109968",
   "metadata": {},
   "source": [
    "## RNN with \"general\" Multiplicative Attention"
   ]
  },
  {
   "cell_type": "code",
   "execution_count": 25,
   "id": "4a326640-338e-47f0-92ee-b1b72caa9a9d",
   "metadata": {
    "execution": {
     "iopub.execute_input": "2025-07-08T04:27:15.804289Z",
     "iopub.status.busy": "2025-07-08T04:27:15.804009Z",
     "iopub.status.idle": "2025-07-08T04:27:16.305796Z",
     "shell.execute_reply": "2025-07-08T04:27:16.305034Z",
     "shell.execute_reply.started": "2025-07-08T04:27:15.804269Z"
    }
   },
   "outputs": [],
   "source": [
    "attention_2 = MultiplicativeAttentions(256, scoring_function = \"general\").to(device)\n",
    "rnn_model_2 = AttentiveRNN(256, tokenizer.vocab_size, 512, attention = attention_2, bidirectional = False).to(device)\n",
    "optimizer_2 = torch.optim.Adam(rnn_model_2.parameters(), lr=1e-4)"
   ]
  },
  {
   "cell_type": "code",
   "execution_count": 28,
   "id": "f22971ae-6c73-4d8b-ba9f-f8e0425bed99",
   "metadata": {
    "execution": {
     "iopub.execute_input": "2025-07-08T04:28:21.869765Z",
     "iopub.status.busy": "2025-07-08T04:28:21.868985Z",
     "iopub.status.idle": "2025-07-08T04:59:16.106837Z",
     "shell.execute_reply": "2025-07-08T04:59:16.106065Z",
     "shell.execute_reply.started": "2025-07-08T04:28:21.869728Z"
    }
   },
   "outputs": [
    {
     "name": "stdout",
     "output_type": "stream",
     "text": [
      "Progress      Epoch     Loss        Accuracy        training time per epoch\n",
      "62              1     347.7177      67.73%              137.19 sec\n",
      "62              2     293.8232      76.02%              131.81 sec\n",
      "62              3     264.2075      79.61%              130.70 sec\n",
      "62              4     238.0278      81.97%               93.96 sec\n",
      "62              5     217.4647      84.26%               85.43 sec\n",
      "62              6     207.3202      85.25%               84.40 sec\n",
      "62              7     238.4441      83.28%               85.34 sec\n",
      "62              8     178.2110      87.73%               85.36 sec\n",
      "62              9     164.1993      88.92%               84.89 sec\n",
      "62              10    156.7881      89.68%               85.36 sec\n",
      "62              11    146.6483      90.44%               85.36 sec\n",
      "62              12    169.7652      88.44%               84.49 sec\n",
      "62              13    135.8995      91.20%               85.26 sec\n",
      "62              14    117.5262      92.54%               85.47 sec\n",
      "62              15    107.4809      93.23%               84.36 sec\n",
      "62              16    92.9394       94.31%               84.89 sec\n",
      "62              17    85.0056       94.98%               85.56 sec\n",
      "62              18    74.5433       95.59%               84.44 sec\n",
      "62              19    101.3771      94.04%               85.24 sec\n",
      "62              20    73.8936       95.67%               84.73 sec\n",
      "\n",
      "\n",
      "Total Train Time: 0h 30m 54s\n"
     ]
    }
   ],
   "source": [
    "if not load_pre_trained_model:\n",
    "    train(rnn_model_2, device, criterion, optimizer_2, train_epochs =20, pre_epochs = 0)\n",
    "else:\n",
    "    saved_path = os.path.join(saved_dir, \"rnn_model_2.pth\")\n",
    "    rnn_model_2.load_state_dict(torch.load(saved_path))"
   ]
  },
  {
   "cell_type": "markdown",
   "id": "f3133494-d1c7-4ab3-ace6-543b7d1424ed",
   "metadata": {},
   "source": [
    "* Total Train Time: 0h 30m 54s\n",
    "* Train Time Per Epoch: 84s ~ 137s\n",
    "* Training Accracy: 95.67%\n",
    "* Batch Size: 64"
   ]
  },
  {
   "cell_type": "code",
   "execution_count": 31,
   "id": "062b8801-f504-406c-aebf-2ba713edec22",
   "metadata": {
    "execution": {
     "iopub.execute_input": "2025-07-08T04:59:56.679742Z",
     "iopub.status.busy": "2025-07-08T04:59:56.679460Z",
     "iopub.status.idle": "2025-07-08T05:00:16.594206Z",
     "shell.execute_reply": "2025-07-08T05:00:16.593585Z",
     "shell.execute_reply.started": "2025-07-08T04:59:56.679724Z"
    }
   },
   "outputs": [
    {
     "data": {
      "text/html": [
       "\n",
       "    <table style=\"width:50%; border-collapse: collapse; font-size: 16px;\">\n",
       "        <thead>\n",
       "            <tr>\n",
       "                <th style=\"border: 1px solid #ddd; padding: 8px;\">Metric</th>\n",
       "                <th style=\"border: 1px solid #ddd; padding: 8px;\">Macro</th>\n",
       "                <th style=\"border: 1px solid #ddd; padding: 8px;\">Micro</th>\n",
       "            </tr>\n",
       "        </thead>\n",
       "        <tbody>\n",
       "            <tr><td style=\"border: 1px solid #ddd; padding: 8px;\">Accuracy</td>\n",
       "                <td colspan=\"2\" style=\"border: 1px solid #ddd; padding: 12px; text-align: center;\">\n",
       "                    <b style=\"font-size: 18px;\">84.18%</b>\n",
       "                </td>\n",
       "            </tr>\n",
       "    \n",
       "            <tr><td style=\"border: 1px solid #ddd; padding: 8px;\">Precision</td>\n",
       "                <td style=\"border: 1px solid #ddd; padding: 8px;\">84.18%</td>\n",
       "                <td style=\"border: 1px solid #ddd; padding: 8px;\">84.18%</td></tr>\n",
       "    \n",
       "            <tr><td style=\"border: 1px solid #ddd; padding: 8px;\">Recall</td>\n",
       "                <td style=\"border: 1px solid #ddd; padding: 8px;\">84.19%</td>\n",
       "                <td style=\"border: 1px solid #ddd; padding: 8px;\">84.18%</td></tr>\n",
       "    \n",
       "            <tr><td style=\"border: 1px solid #ddd; padding: 8px;\">F1 Score</td>\n",
       "                <td style=\"border: 1px solid #ddd; padding: 8px;\">84.18%</td>\n",
       "                <td style=\"border: 1px solid #ddd; padding: 8px;\">84.18%</td></tr>\n",
       "        </tbody>\n",
       "    </table>\n",
       "    "
      ],
      "text/plain": [
       "<IPython.core.display.HTML object>"
      ]
     },
     "metadata": {},
     "output_type": "display_data"
    },
    {
     "data": {
      "image/png": "[encoded data removed]",
      "text/plain": [
       "<Figure size 640x480 with 2 Axes>"
      ]
     },
     "metadata": {},
     "output_type": "display_data"
    }
   ],
   "source": [
    "eval(rnn_model_2, device, dev_loader)"
   ]
  },
  {
   "cell_type": "code",
   "execution_count": 32,
   "id": "fffe2444-c3bf-46d7-a4ea-72bf298840a4",
   "metadata": {
    "execution": {
     "iopub.execute_input": "2025-07-08T05:00:33.565250Z",
     "iopub.status.busy": "2025-07-08T05:00:33.564975Z",
     "iopub.status.idle": "2025-07-08T05:00:36.856574Z",
     "shell.execute_reply": "2025-07-08T05:00:36.855953Z",
     "shell.execute_reply.started": "2025-07-08T05:00:33.565229Z"
    }
   },
   "outputs": [
    {
     "name": "stdout",
     "output_type": "stream",
     "text": [
      "rnn_model_2.zip saved at /kaggle/working/rnn_model_2.zip | Size: 56.60 MB\n"
     ]
    }
   ],
   "source": [
    "if save_model:\n",
    "    save_model_as_zip(rnn_model_2, \"rnn_model_2\")"
   ]
  },
  {
   "cell_type": "markdown",
   "id": "e589f5af-bff9-4ed8-89d6-bd9f72d3e699",
   "metadata": {},
   "source": [
    "## RNN with \"concat\" Multiplicative Attention"
   ]
  },
  {
   "cell_type": "code",
   "execution_count": 33,
   "id": "3c85d26f-e87c-4e74-8b2c-5e1e3fa4bf99",
   "metadata": {
    "execution": {
     "iopub.execute_input": "2025-07-08T05:00:51.454139Z",
     "iopub.status.busy": "2025-07-08T05:00:51.453867Z",
     "iopub.status.idle": "2025-07-08T05:00:51.616715Z",
     "shell.execute_reply": "2025-07-08T05:00:51.616165Z",
     "shell.execute_reply.started": "2025-07-08T05:00:51.454120Z"
    }
   },
   "outputs": [],
   "source": [
    "attention_3 = MultiplicativeAttentions(256, scoring_function = \"general\").to(device)\n",
    "rnn_model_3 = AttentiveRNN(256, tokenizer.vocab_size, 512, attention = attention_3, bidirectional = False).to(device)\n",
    "optimizer_3 = torch.optim.Adam(rnn_model_3.parameters(), lr=1e-4)"
   ]
  },
  {
   "cell_type": "code",
   "execution_count": 34,
   "id": "f64a5851-593e-4964-b41e-5e99cdef9937",
   "metadata": {
    "execution": {
     "iopub.execute_input": "2025-07-08T05:01:29.244961Z",
     "iopub.status.busy": "2025-07-08T05:01:29.244396Z",
     "iopub.status.idle": "2025-07-08T05:29:48.016210Z",
     "shell.execute_reply": "2025-07-08T05:29:48.015242Z",
     "shell.execute_reply.started": "2025-07-08T05:01:29.244940Z"
    }
   },
   "outputs": [
    {
     "name": "stdout",
     "output_type": "stream",
     "text": [
      "Progress      Epoch     Loss        Accuracy        training time per epoch\n",
      "62              1     367.6249      62.92%               84.91 sec\n",
      "62              2     285.5861      76.71%               84.68 sec\n",
      "62              3     255.1178      80.36%               85.39 sec\n",
      "62              4     229.4402      83.06%               85.24 sec\n",
      "62              5     207.0956      85.05%               84.62 sec\n",
      "62              6     186.1886      87.02%               85.40 sec\n",
      "62              7     167.4645      88.63%               84.84 sec\n",
      "62              8     146.8988      90.25%               84.89 sec\n",
      "62              9     131.5358      91.32%               85.21 sec\n",
      "62              10    115.5124      92.66%               85.55 sec\n",
      "62              11    104.4474      93.37%               84.76 sec\n",
      "62              12    91.3033       94.43%               84.78 sec\n",
      "62              13    77.3875       95.24%               84.57 sec\n",
      "62              14    64.4010       96.23%               85.29 sec\n",
      "62              15    209.6596      86.21%               84.46 sec\n",
      "62              16    101.1323      93.70%               84.61 sec\n",
      "62              17    60.4944       96.61%               85.00 sec\n",
      "62              18    46.8425       97.48%               84.58 sec\n",
      "62              19    39.4242       97.87%               84.69 sec\n",
      "62              20    38.6578       97.94%               85.28 sec\n",
      "\n",
      "\n",
      "Total Train Time: 0h 28m 18s\n"
     ]
    }
   ],
   "source": [
    "if not load_pre_trained_model:\n",
    "    train(rnn_model_3, device, criterion, optimizer_3, train_epochs =20, pre_epochs = 0)\n",
    "else:\n",
    "    saved_path = os.path.join(saved_dir, \"rnn_model_3.pth\")\n",
    "    rnn_model_3.load_state_dict(torch.load(saved_path))"
   ]
  },
  {
   "cell_type": "markdown",
   "id": "9257658c-f2b4-4cb0-a53d-6989f4f6fa0c",
   "metadata": {},
   "source": [
    "* Total Train Time: 0h 28m 18s\n",
    "* Train Time Per Epoch: 84s ~ 85s\n",
    "* Training Accracy: 97.94%\n",
    "* Batch Size: 64"
   ]
  },
  {
   "cell_type": "code",
   "execution_count": 43,
   "id": "46fc1de9-b882-4464-b613-1685cbbf2c57",
   "metadata": {
    "execution": {
     "iopub.execute_input": "2025-07-08T05:31:08.001061Z",
     "iopub.status.busy": "2025-07-08T05:31:08.000875Z",
     "iopub.status.idle": "2025-07-08T05:31:27.733752Z",
     "shell.execute_reply": "2025-07-08T05:31:27.733168Z",
     "shell.execute_reply.started": "2025-07-08T05:31:08.001047Z"
    }
   },
   "outputs": [
    {
     "data": {
      "text/html": [
       "\n",
       "    <table style=\"width:50%; border-collapse: collapse; font-size: 16px;\">\n",
       "        <thead>\n",
       "            <tr>\n",
       "                <th style=\"border: 1px solid #ddd; padding: 8px;\">Metric</th>\n",
       "                <th style=\"border: 1px solid #ddd; padding: 8px;\">Macro</th>\n",
       "                <th style=\"border: 1px solid #ddd; padding: 8px;\">Micro</th>\n",
       "            </tr>\n",
       "        </thead>\n",
       "        <tbody>\n",
       "            <tr><td style=\"border: 1px solid #ddd; padding: 8px;\">Accuracy</td>\n",
       "                <td colspan=\"2\" style=\"border: 1px solid #ddd; padding: 12px; text-align: center;\">\n",
       "                    <b style=\"font-size: 18px;\">83.26%</b>\n",
       "                </td>\n",
       "            </tr>\n",
       "    \n",
       "            <tr><td style=\"border: 1px solid #ddd; padding: 8px;\">Precision</td>\n",
       "                <td style=\"border: 1px solid #ddd; padding: 8px;\">83.26%</td>\n",
       "                <td style=\"border: 1px solid #ddd; padding: 8px;\">83.26%</td></tr>\n",
       "    \n",
       "            <tr><td style=\"border: 1px solid #ddd; padding: 8px;\">Recall</td>\n",
       "                <td style=\"border: 1px solid #ddd; padding: 8px;\">83.27%</td>\n",
       "                <td style=\"border: 1px solid #ddd; padding: 8px;\">83.26%</td></tr>\n",
       "    \n",
       "            <tr><td style=\"border: 1px solid #ddd; padding: 8px;\">F1 Score</td>\n",
       "                <td style=\"border: 1px solid #ddd; padding: 8px;\">83.26%</td>\n",
       "                <td style=\"border: 1px solid #ddd; padding: 8px;\">83.26%</td></tr>\n",
       "        </tbody>\n",
       "    </table>\n",
       "    "
      ],
      "text/plain": [
       "<IPython.core.display.HTML object>"
      ]
     },
     "metadata": {},
     "output_type": "display_data"
    },
    {
     "data": {
      "image/png": "[encoded data removed]",
      "text/plain": [
       "<Figure size 640x480 with 2 Axes>"
      ]
     },
     "metadata": {},
     "output_type": "display_data"
    }
   ],
   "source": [
    "eval(rnn_model_3, device, dev_loader)"
   ]
  },
  {
   "cell_type": "code",
   "execution_count": 44,
   "id": "6be1fe1e-ebd1-4f5f-b6a2-4c6d68d6ce1d",
   "metadata": {
    "execution": {
     "iopub.execute_input": "2025-07-08T05:31:27.734794Z",
     "iopub.status.busy": "2025-07-08T05:31:27.734515Z",
     "iopub.status.idle": "2025-07-08T05:31:31.070637Z",
     "shell.execute_reply": "2025-07-08T05:31:31.070002Z",
     "shell.execute_reply.started": "2025-07-08T05:31:27.734771Z"
    }
   },
   "outputs": [
    {
     "name": "stdout",
     "output_type": "stream",
     "text": [
      "rnn_model_3.zip saved at /kaggle/working/rnn_model_3.zip | Size: 56.60 MB\n"
     ]
    }
   ],
   "source": [
    "if save_model:\n",
    "    save_model_as_zip(rnn_model_3, \"rnn_model_3\")"
   ]
  },
  {
   "cell_type": "markdown",
   "id": "79289c6f-372d-4ec2-a77a-450c8d3ea7b2",
   "metadata": {},
   "source": [
    "# Bidirectional RNN Models"
   ]
  },
  {
   "cell_type": "markdown",
   "id": "499bd3c6-071c-42f7-bd45-7f39fb93c247",
   "metadata": {},
   "source": [
    "## Vanilla Bi-RNN"
   ]
  },
  {
   "cell_type": "code",
   "execution_count": 45,
   "id": "3af8f6b7-0eb3-437b-9ba9-159eb5eb52bc",
   "metadata": {
    "execution": {
     "iopub.execute_input": "2025-07-08T05:32:39.055079Z",
     "iopub.status.busy": "2025-07-08T05:32:39.054306Z",
     "iopub.status.idle": "2025-07-08T05:32:39.223967Z",
     "shell.execute_reply": "2025-07-08T05:32:39.223209Z",
     "shell.execute_reply.started": "2025-07-08T05:32:39.055045Z"
    }
   },
   "outputs": [],
   "source": [
    "rnn_model_4 = AttentiveRNN(256, tokenizer.vocab_size, 512, attention = None, bidirectional = True).to(device)\n",
    "optimizer_4 = torch.optim.Adam(rnn_model_4.parameters(), lr=1e-4)"
   ]
  },
  {
   "cell_type": "code",
   "execution_count": 46,
   "id": "f9c6ea9a-9bdb-4917-9e34-2e170bdd0500",
   "metadata": {
    "execution": {
     "iopub.execute_input": "2025-07-08T05:32:59.651716Z",
     "iopub.status.busy": "2025-07-08T05:32:59.650998Z",
     "iopub.status.idle": "2025-07-08T06:01:20.836207Z",
     "shell.execute_reply": "2025-07-08T06:01:20.835298Z",
     "shell.execute_reply.started": "2025-07-08T05:32:59.651680Z"
    }
   },
   "outputs": [
    {
     "name": "stdout",
     "output_type": "stream",
     "text": [
      "Progress      Epoch     Loss        Accuracy        training time per epoch\n",
      "62              1     426.1195      52.02%               84.97 sec\n",
      "62              2     398.9407      60.17%               85.04 sec\n",
      "62              3     393.3124      61.10%               85.86 sec\n",
      "62              4     419.9687      52.21%               85.62 sec\n",
      "62              5     398.8455      59.63%               85.01 sec\n",
      "62              6     384.4077      61.40%               85.09 sec\n",
      "62              7     365.2749      65.61%               84.85 sec\n",
      "62              8     373.6912      63.08%               84.69 sec\n",
      "62              9     346.7102      68.94%               85.19 sec\n",
      "62              10    356.7653      65.70%               85.77 sec\n",
      "62              11    334.0787      70.41%               85.03 sec\n",
      "62              12    327.2674      72.08%               85.38 sec\n",
      "62              13    324.6212      72.07%               84.77 sec\n",
      "62              14    309.5489      74.56%               84.64 sec\n",
      "62              15    312.4091      73.64%               85.17 sec\n",
      "62              16    309.5001      73.41%               85.57 sec\n",
      "62              17    288.1097      76.74%               84.59 sec\n",
      "62              18    272.6021      78.13%               85.26 sec\n",
      "62              19    263.9193      79.44%               84.75 sec\n",
      "62              20    244.3003      81.92%               83.93 sec\n",
      "\n",
      "\n",
      "Total Train Time: 0h 28m 21s\n"
     ]
    }
   ],
   "source": [
    "if not load_pre_trained_model:\n",
    "    train(rnn_model_4, device, criterion, optimizer_4, train_epochs =20, pre_epochs = 0)\n",
    "else:\n",
    "    saved_path = os.path.join(saved_dir, \"rnn_model_4.pth\")\n",
    "    rnn_model_4.load_state_dict(torch.load(saved_path))"
   ]
  },
  {
   "cell_type": "markdown",
   "id": "92658c54-982a-4dfd-8728-6bd25eb38f23",
   "metadata": {},
   "source": [
    "* Total Train Time: 0h 28m 21s\n",
    "* Train Time Per Epoch: 84s ~ 85s\n",
    "* Training Accracy: 81.92%\n",
    "* Batch Size: 64"
   ]
  },
  {
   "cell_type": "code",
   "execution_count": 54,
   "id": "a28f8025-553c-4563-858e-15aa81dd4c49",
   "metadata": {
    "execution": {
     "iopub.execute_input": "2025-07-08T06:02:16.126300Z",
     "iopub.status.busy": "2025-07-08T06:02:16.125430Z",
     "iopub.status.idle": "2025-07-08T06:02:36.513261Z",
     "shell.execute_reply": "2025-07-08T06:02:36.512664Z",
     "shell.execute_reply.started": "2025-07-08T06:02:16.126269Z"
    }
   },
   "outputs": [
    {
     "data": {
      "text/html": [
       "\n",
       "    <table style=\"width:50%; border-collapse: collapse; font-size: 16px;\">\n",
       "        <thead>\n",
       "            <tr>\n",
       "                <th style=\"border: 1px solid #ddd; padding: 8px;\">Metric</th>\n",
       "                <th style=\"border: 1px solid #ddd; padding: 8px;\">Macro</th>\n",
       "                <th style=\"border: 1px solid #ddd; padding: 8px;\">Micro</th>\n",
       "            </tr>\n",
       "        </thead>\n",
       "        <tbody>\n",
       "            <tr><td style=\"border: 1px solid #ddd; padding: 8px;\">Accuracy</td>\n",
       "                <td colspan=\"2\" style=\"border: 1px solid #ddd; padding: 12px; text-align: center;\">\n",
       "                    <b style=\"font-size: 18px;\">69.14%</b>\n",
       "                </td>\n",
       "            </tr>\n",
       "    \n",
       "            <tr><td style=\"border: 1px solid #ddd; padding: 8px;\">Precision</td>\n",
       "                <td style=\"border: 1px solid #ddd; padding: 8px;\">69.14%</td>\n",
       "                <td style=\"border: 1px solid #ddd; padding: 8px;\">69.14%</td></tr>\n",
       "    \n",
       "            <tr><td style=\"border: 1px solid #ddd; padding: 8px;\">Recall</td>\n",
       "                <td style=\"border: 1px solid #ddd; padding: 8px;\">69.54%</td>\n",
       "                <td style=\"border: 1px solid #ddd; padding: 8px;\">69.14%</td></tr>\n",
       "    \n",
       "            <tr><td style=\"border: 1px solid #ddd; padding: 8px;\">F1 Score</td>\n",
       "                <td style=\"border: 1px solid #ddd; padding: 8px;\">68.98%</td>\n",
       "                <td style=\"border: 1px solid #ddd; padding: 8px;\">69.14%</td></tr>\n",
       "        </tbody>\n",
       "    </table>\n",
       "    "
      ],
      "text/plain": [
       "<IPython.core.display.HTML object>"
      ]
     },
     "metadata": {},
     "output_type": "display_data"
    },
    {
     "data": {
      "image/png": "[encoded data removed]",
      "text/plain": [
       "<Figure size 640x480 with 2 Axes>"
      ]
     },
     "metadata": {},
     "output_type": "display_data"
    }
   ],
   "source": [
    "eval(rnn_model_4, device, dev_loader)"
   ]
  },
  {
   "cell_type": "code",
   "execution_count": 55,
   "id": "979109b6-4a45-4a00-b794-08ad04a8ba8a",
   "metadata": {
    "execution": {
     "iopub.execute_input": "2025-07-08T06:02:43.910729Z",
     "iopub.status.busy": "2025-07-08T06:02:43.910025Z",
     "iopub.status.idle": "2025-07-08T06:02:47.195270Z",
     "shell.execute_reply": "2025-07-08T06:02:47.194654Z",
     "shell.execute_reply.started": "2025-07-08T06:02:43.910706Z"
    }
   },
   "outputs": [
    {
     "name": "stdout",
     "output_type": "stream",
     "text": [
      "rnn_model_4.zip saved at /kaggle/working/rnn_model_4.zip | Size: 56.60 MB\n"
     ]
    }
   ],
   "source": [
    "if save_model:\n",
    "    save_model_as_zip(rnn_model_4, \"rnn_model_4\")"
   ]
  },
  {
   "cell_type": "markdown",
   "id": "155e6670-824b-43f8-8d9a-516199ccc36f",
   "metadata": {},
   "source": [
    "## Bi-RNN with \"dot\" Attention"
   ]
  },
  {
   "cell_type": "code",
   "execution_count": 61,
   "id": "7b406844-8d1d-4d45-9f5e-16b5a7641ed5",
   "metadata": {
    "execution": {
     "iopub.execute_input": "2025-07-08T06:33:03.103274Z",
     "iopub.status.busy": "2025-07-08T06:33:03.102995Z",
     "iopub.status.idle": "2025-07-08T06:33:03.278331Z",
     "shell.execute_reply": "2025-07-08T06:33:03.277577Z",
     "shell.execute_reply.started": "2025-07-08T06:33:03.103252Z"
    }
   },
   "outputs": [],
   "source": [
    "attention_5 = MultiplicativeAttentions(256, scoring_function = \"dot\", bidirectional = True).to(device)\n",
    "rnn_model_5 = AttentiveRNN(256, tokenizer.vocab_size, 512, attention = attention_5, bidirectional = True).to(device)\n",
    "optimizer_5 = torch.optim.Adam(rnn_model_5.parameters(), lr=5e-5)"
   ]
  },
  {
   "cell_type": "code",
   "execution_count": 62,
   "id": "1ccf6e25-de57-4a30-aac4-50a26048ed4a",
   "metadata": {
    "execution": {
     "iopub.execute_input": "2025-07-08T06:33:08.103079Z",
     "iopub.status.busy": "2025-07-08T06:33:08.102473Z",
     "iopub.status.idle": "2025-07-08T07:02:11.900977Z",
     "shell.execute_reply": "2025-07-08T07:02:11.900117Z",
     "shell.execute_reply.started": "2025-07-08T06:33:08.103059Z"
    }
   },
   "outputs": [
    {
     "name": "stdout",
     "output_type": "stream",
     "text": [
      "Progress      Epoch     Loss        Accuracy        training time per epoch\n",
      "62              1     434.2131      50.41%               87.32 sec\n",
      "62              2     422.0176      53.52%               86.37 sec\n",
      "62              3     397.1805      60.16%               88.79 sec\n",
      "62              4     360.4677      69.38%               87.15 sec\n",
      "62              5     356.1459      69.83%               86.70 sec\n",
      "62              6     373.9736      65.25%               86.83 sec\n",
      "62              7     367.0427      66.86%               88.18 sec\n",
      "62              8     333.6955      73.89%               87.29 sec\n",
      "62              9     366.0292      66.92%               86.92 sec\n",
      "62              10    398.7308      59.27%               87.40 sec\n",
      "62              11    332.6679      73.69%               88.29 sec\n",
      "62              12    310.2887      76.53%               86.28 sec\n",
      "62              13    307.4305      76.10%               86.54 sec\n",
      "62              14    291.8896      78.68%               86.52 sec\n",
      "62              15    283.4730      79.76%               87.30 sec\n",
      "62              16    279.0704      80.11%               88.87 sec\n",
      "62              17    336.8834      70.69%               86.27 sec\n",
      "62              18    289.4680      78.52%               86.81 sec\n",
      "62              19    266.5121      81.46%               87.63 sec\n",
      "62              20    264.9629      81.80%               86.33 sec\n",
      "\n",
      "\n",
      "Total Train Time: 0h 29m 3s\n"
     ]
    }
   ],
   "source": [
    "if not load_pre_trained_model:\n",
    "    train(rnn_model_5, device, criterion, optimizer_5, train_epochs =20, pre_epochs = 0)\n",
    "else:\n",
    "    saved_path = os.path.join(saved_dir, \"rnn_model_5.pth\")\n",
    "    rnn_model_5.load_state_dict(torch.load(saved_path))"
   ]
  },
  {
   "cell_type": "markdown",
   "id": "d60e31af-bb28-459d-8ff9-3efabec2a3f1",
   "metadata": {},
   "source": [
    "* Total Train Time: 0h 29m 3s\n",
    "* Train Time Per Epoch: 86s ~ 88s\n",
    "* Training Accracy: 81.80%\n",
    "* Batch Size: 64"
   ]
  },
  {
   "cell_type": "code",
   "execution_count": 67,
   "id": "12526727-0da1-464b-948e-cafe1e8bfcee",
   "metadata": {
    "execution": {
     "iopub.execute_input": "2025-07-08T07:03:13.765560Z",
     "iopub.status.busy": "2025-07-08T07:03:13.764811Z",
     "iopub.status.idle": "2025-07-08T07:03:34.788186Z",
     "shell.execute_reply": "2025-07-08T07:03:34.787564Z",
     "shell.execute_reply.started": "2025-07-08T07:03:13.765535Z"
    }
   },
   "outputs": [
    {
     "data": {
      "text/html": [
       "\n",
       "    <table style=\"width:50%; border-collapse: collapse; font-size: 16px;\">\n",
       "        <thead>\n",
       "            <tr>\n",
       "                <th style=\"border: 1px solid #ddd; padding: 8px;\">Metric</th>\n",
       "                <th style=\"border: 1px solid #ddd; padding: 8px;\">Macro</th>\n",
       "                <th style=\"border: 1px solid #ddd; padding: 8px;\">Micro</th>\n",
       "            </tr>\n",
       "        </thead>\n",
       "        <tbody>\n",
       "            <tr><td style=\"border: 1px solid #ddd; padding: 8px;\">Accuracy</td>\n",
       "                <td colspan=\"2\" style=\"border: 1px solid #ddd; padding: 12px; text-align: center;\">\n",
       "                    <b style=\"font-size: 18px;\">78.28%</b>\n",
       "                </td>\n",
       "            </tr>\n",
       "    \n",
       "            <tr><td style=\"border: 1px solid #ddd; padding: 8px;\">Precision</td>\n",
       "                <td style=\"border: 1px solid #ddd; padding: 8px;\">78.28%</td>\n",
       "                <td style=\"border: 1px solid #ddd; padding: 8px;\">78.28%</td></tr>\n",
       "    \n",
       "            <tr><td style=\"border: 1px solid #ddd; padding: 8px;\">Recall</td>\n",
       "                <td style=\"border: 1px solid #ddd; padding: 8px;\">78.29%</td>\n",
       "                <td style=\"border: 1px solid #ddd; padding: 8px;\">78.28%</td></tr>\n",
       "    \n",
       "            <tr><td style=\"border: 1px solid #ddd; padding: 8px;\">F1 Score</td>\n",
       "                <td style=\"border: 1px solid #ddd; padding: 8px;\">78.28%</td>\n",
       "                <td style=\"border: 1px solid #ddd; padding: 8px;\">78.28%</td></tr>\n",
       "        </tbody>\n",
       "    </table>\n",
       "    "
      ],
      "text/plain": [
       "<IPython.core.display.HTML object>"
      ]
     },
     "metadata": {},
     "output_type": "display_data"
    },
    {
     "data": {
      "image/png": "[encoded data removed]",
      "text/plain": [
       "<Figure size 640x480 with 2 Axes>"
      ]
     },
     "metadata": {},
     "output_type": "display_data"
    }
   ],
   "source": [
    "eval(rnn_model_5, device, dev_loader)"
   ]
  },
  {
   "cell_type": "code",
   "execution_count": 68,
   "id": "911c0767-accb-4312-b296-8f15d39b073e",
   "metadata": {
    "execution": {
     "iopub.execute_input": "2025-07-08T07:04:06.895949Z",
     "iopub.status.busy": "2025-07-08T07:04:06.895255Z",
     "iopub.status.idle": "2025-07-08T07:04:10.411905Z",
     "shell.execute_reply": "2025-07-08T07:04:10.411113Z",
     "shell.execute_reply.started": "2025-07-08T07:04:06.895927Z"
    }
   },
   "outputs": [
    {
     "name": "stdout",
     "output_type": "stream",
     "text": [
      "rnn_model_5.zip saved at /kaggle/working/rnn_model_5.zip | Size: 58.44 MB\n"
     ]
    }
   ],
   "source": [
    "if save_model:\n",
    "    save_model_as_zip(rnn_model_5, \"rnn_model_5\")"
   ]
  },
  {
   "cell_type": "markdown",
   "id": "d4297b54-f851-4b9e-a505-c077a5394c6e",
   "metadata": {},
   "source": [
    "## Bi-RNN with \"general\" Attention"
   ]
  },
  {
   "cell_type": "code",
   "execution_count": 69,
   "id": "0320befa-e019-42ef-8091-9d73940b84e2",
   "metadata": {
    "execution": {
     "iopub.execute_input": "2025-07-08T07:04:37.618583Z",
     "iopub.status.busy": "2025-07-08T07:04:37.618075Z",
     "iopub.status.idle": "2025-07-08T07:04:37.788840Z",
     "shell.execute_reply": "2025-07-08T07:04:37.788275Z",
     "shell.execute_reply.started": "2025-07-08T07:04:37.618555Z"
    }
   },
   "outputs": [],
   "source": [
    "attention_6 = MultiplicativeAttentions(256, scoring_function = \"general\", bidirectional = True).to(device)\n",
    "rnn_model_6 = AttentiveRNN(256, tokenizer.vocab_size, 512, attention = attention_6, bidirectional = True).to(device)\n",
    "optimizer_6 = torch.optim.Adam(rnn_model_6.parameters(), lr=1e-4)"
   ]
  },
  {
   "cell_type": "code",
   "execution_count": 70,
   "id": "ea3c55e4-10bc-481d-ac00-566b72720c98",
   "metadata": {
    "execution": {
     "iopub.execute_input": "2025-07-08T07:05:24.107523Z",
     "iopub.status.busy": "2025-07-08T07:05:24.106829Z",
     "iopub.status.idle": "2025-07-08T07:35:32.944387Z",
     "shell.execute_reply": "2025-07-08T07:35:32.943497Z",
     "shell.execute_reply.started": "2025-07-08T07:05:24.107499Z"
    }
   },
   "outputs": [
    {
     "name": "stdout",
     "output_type": "stream",
     "text": [
      "Progress      Epoch     Loss        Accuracy        training time per epoch\n",
      "62              1     387.6773      59.23%               88.64 sec\n",
      "62              2     359.3903      66.96%               89.46 sec\n",
      "62              3     352.4644      68.20%               91.41 sec\n",
      "62              4     343.5465      70.00%               91.41 sec\n",
      "62              5     326.9246      72.72%               90.28 sec\n",
      "62              6     323.1908      72.82%               89.40 sec\n",
      "62              7     313.1999      74.24%               90.96 sec\n",
      "62              8     301.2497      75.85%               91.15 sec\n",
      "62              9     295.3044      76.77%               90.01 sec\n",
      "62              10    290.4290      77.13%               90.51 sec\n",
      "62              11    282.9761      78.10%               89.62 sec\n",
      "62              12    303.5461      75.33%               91.51 sec\n",
      "62              13    292.7464      76.94%               90.01 sec\n",
      "62              14    279.9661      78.67%               90.97 sec\n",
      "62              15    272.2163      79.36%               91.80 sec\n",
      "62              16    268.5889      79.68%               91.02 sec\n",
      "62              17    269.8205      79.42%               88.41 sec\n",
      "62              18    265.8866      80.01%               90.79 sec\n",
      "62              19    272.8737      79.60%               91.17 sec\n",
      "62              20    261.1585      80.47%               90.31 sec\n",
      "\n",
      "\n",
      "Total Train Time: 0h 30m 8s\n"
     ]
    }
   ],
   "source": [
    "if not load_pre_trained_model:\n",
    "    train(rnn_model_6, device, criterion, optimizer_6, train_epochs =20, pre_epochs = 0)\n",
    "else:\n",
    "    saved_path = os.path.join(saved_dir, \"rnn_model_6.pth\")\n",
    "    rnn_model_6.load_state_dict(torch.load(saved_path))"
   ]
  },
  {
   "cell_type": "markdown",
   "id": "1d12e522-2e8c-4289-8338-07c5e2a536fd",
   "metadata": {},
   "source": [
    "* Total Train Time: 0h 30m 8s\n",
    "* Train Time Per Epoch: 88s ~ 91s\n",
    "* Training Accracy: 80.47%\n",
    "* Batch Size: 64"
   ]
  },
  {
   "cell_type": "code",
   "execution_count": 78,
   "id": "dc5901ef-d251-4a7c-af9d-0ea69b2e97ef",
   "metadata": {
    "execution": {
     "iopub.execute_input": "2025-07-08T07:35:41.573203Z",
     "iopub.status.busy": "2025-07-08T07:35:41.572925Z",
     "iopub.status.idle": "2025-07-08T07:36:03.523650Z",
     "shell.execute_reply": "2025-07-08T07:36:03.523067Z",
     "shell.execute_reply.started": "2025-07-08T07:35:41.573182Z"
    }
   },
   "outputs": [
    {
     "data": {
      "text/html": [
       "\n",
       "    <table style=\"width:50%; border-collapse: collapse; font-size: 16px;\">\n",
       "        <thead>\n",
       "            <tr>\n",
       "                <th style=\"border: 1px solid #ddd; padding: 8px;\">Metric</th>\n",
       "                <th style=\"border: 1px solid #ddd; padding: 8px;\">Macro</th>\n",
       "                <th style=\"border: 1px solid #ddd; padding: 8px;\">Micro</th>\n",
       "            </tr>\n",
       "        </thead>\n",
       "        <tbody>\n",
       "            <tr><td style=\"border: 1px solid #ddd; padding: 8px;\">Accuracy</td>\n",
       "                <td colspan=\"2\" style=\"border: 1px solid #ddd; padding: 12px; text-align: center;\">\n",
       "                    <b style=\"font-size: 18px;\">79.32%</b>\n",
       "                </td>\n",
       "            </tr>\n",
       "    \n",
       "            <tr><td style=\"border: 1px solid #ddd; padding: 8px;\">Precision</td>\n",
       "                <td style=\"border: 1px solid #ddd; padding: 8px;\">79.32%</td>\n",
       "                <td style=\"border: 1px solid #ddd; padding: 8px;\">79.32%</td></tr>\n",
       "    \n",
       "            <tr><td style=\"border: 1px solid #ddd; padding: 8px;\">Recall</td>\n",
       "                <td style=\"border: 1px solid #ddd; padding: 8px;\">79.66%</td>\n",
       "                <td style=\"border: 1px solid #ddd; padding: 8px;\">79.32%</td></tr>\n",
       "    \n",
       "            <tr><td style=\"border: 1px solid #ddd; padding: 8px;\">F1 Score</td>\n",
       "                <td style=\"border: 1px solid #ddd; padding: 8px;\">79.26%</td>\n",
       "                <td style=\"border: 1px solid #ddd; padding: 8px;\">79.32%</td></tr>\n",
       "        </tbody>\n",
       "    </table>\n",
       "    "
      ],
      "text/plain": [
       "<IPython.core.display.HTML object>"
      ]
     },
     "metadata": {},
     "output_type": "display_data"
    },
    {
     "data": {
      "image/png": "[encoded data removed]",
      "text/plain": [
       "<Figure size 640x480 with 2 Axes>"
      ]
     },
     "metadata": {},
     "output_type": "display_data"
    }
   ],
   "source": [
    "eval(rnn_model_6, device, dev_loader)"
   ]
  },
  {
   "cell_type": "code",
   "execution_count": 79,
   "id": "4b840816-1cd3-48f6-ac6c-7addff986063",
   "metadata": {
    "execution": {
     "iopub.execute_input": "2025-07-08T07:36:17.853177Z",
     "iopub.status.busy": "2025-07-08T07:36:17.852601Z",
     "iopub.status.idle": "2025-07-08T07:36:21.447592Z",
     "shell.execute_reply": "2025-07-08T07:36:21.446786Z",
     "shell.execute_reply.started": "2025-07-08T07:36:17.853152Z"
    }
   },
   "outputs": [
    {
     "name": "stdout",
     "output_type": "stream",
     "text": [
      "rnn_model_6.zip saved at /kaggle/working/rnn_model_6.zip | Size: 58.44 MB\n"
     ]
    }
   ],
   "source": [
    "if save_model:\n",
    "    save_model_as_zip(rnn_model_6, \"rnn_model_6\")"
   ]
  },
  {
   "cell_type": "markdown",
   "id": "f697aede-0cef-497e-8e8c-159afdaef561",
   "metadata": {},
   "source": [
    "## Bi-RNN with \"concat\" Attention"
   ]
  },
  {
   "cell_type": "code",
   "execution_count": 80,
   "id": "138fdb72-707d-4793-b866-fbd80fec4acf",
   "metadata": {
    "execution": {
     "iopub.execute_input": "2025-07-08T07:39:16.739002Z",
     "iopub.status.busy": "2025-07-08T07:39:16.738406Z",
     "iopub.status.idle": "2025-07-08T07:39:16.919095Z",
     "shell.execute_reply": "2025-07-08T07:39:16.918573Z",
     "shell.execute_reply.started": "2025-07-08T07:39:16.738980Z"
    }
   },
   "outputs": [],
   "source": [
    "attention_7 = MultiplicativeAttentions(256, scoring_function = \"concat\", bidirectional = True).to(device)\n",
    "rnn_model_7 = AttentiveRNN(256, tokenizer.vocab_size, 512, attention = attention_7, bidirectional = True).to(device)\n",
    "optimizer_7 = torch.optim.Adam(rnn_model_7.parameters(), lr=1e-4)"
   ]
  },
  {
   "cell_type": "code",
   "execution_count": 81,
   "id": "dd60e8fe-341b-4755-9bfa-8612356fdce4",
   "metadata": {
    "execution": {
     "iopub.execute_input": "2025-07-08T07:39:24.454502Z",
     "iopub.status.busy": "2025-07-08T07:39:24.454216Z",
     "iopub.status.idle": "2025-07-08T08:09:55.442618Z",
     "shell.execute_reply": "2025-07-08T08:09:55.441814Z",
     "shell.execute_reply.started": "2025-07-08T07:39:24.454483Z"
    }
   },
   "outputs": [
    {
     "name": "stdout",
     "output_type": "stream",
     "text": [
      "Progress      Epoch     Loss        Accuracy        training time per epoch\n",
      "62              1     306.5192      72.73%               92.81 sec\n",
      "62              2     201.1816      85.59%               91.82 sec\n",
      "62              3     165.3095      88.55%               92.14 sec\n",
      "62              4     139.1737      90.75%               93.02 sec\n",
      "62              5     119.0747      92.34%               90.84 sec\n",
      "62              6     101.4374      93.58%               92.01 sec\n",
      "62              7     83.0823       94.98%               91.86 sec\n",
      "62              8     68.2345       95.97%               91.54 sec\n",
      "62              9     53.2723       97.04%               89.58 sec\n",
      "62              10    40.9307       97.79%               91.86 sec\n",
      "62              11    30.4454       98.42%               92.22 sec\n",
      "62              12    23.6612       98.76%               91.80 sec\n",
      "62              13    17.6268       99.11%               91.19 sec\n",
      "62              14    15.8208       99.16%               89.30 sec\n",
      "62              15    10.7380       99.45%               91.63 sec\n",
      "62              16    12.7840       99.31%               91.79 sec\n",
      "62              17    9.7837        99.50%               91.61 sec\n",
      "62              18    7.4766        99.63%               90.82 sec\n",
      "62              19    7.7191        99.56%               91.85 sec\n",
      "62              20    8.4935        99.56%               91.31 sec\n",
      "\n",
      "\n",
      "Total Train Time: 0h 30m 30s\n"
     ]
    }
   ],
   "source": [
    "if not load_pre_trained_model:\n",
    "    train(rnn_model_7, device, criterion, optimizer_7, train_epochs =20, pre_epochs = 0)\n",
    "else:\n",
    "    saved_path = os.path.join(saved_dir, \"rnn_model_7.pth\")\n",
    "    rnn_model_7.load_state_dict(torch.load(saved_path))"
   ]
  },
  {
   "cell_type": "markdown",
   "id": "26f69212-0e52-4856-9092-444497266007",
   "metadata": {},
   "source": [
    "* Total Train Time: 0h 30m 30s\n",
    "* Train Time Per Epoch: 90s ~ 92s\n",
    "* Training Accracy: 99.56%\n",
    "* Batch Size: 64"
   ]
  },
  {
   "cell_type": "code",
   "execution_count": 83,
   "id": "fc4e2f91-de46-440f-b9b8-34d1cb541bdb",
   "metadata": {
    "execution": {
     "iopub.execute_input": "2025-07-08T08:10:19.492262Z",
     "iopub.status.busy": "2025-07-08T08:10:19.491988Z",
     "iopub.status.idle": "2025-07-08T08:10:41.801070Z",
     "shell.execute_reply": "2025-07-08T08:10:41.800451Z",
     "shell.execute_reply.started": "2025-07-08T08:10:19.492242Z"
    }
   },
   "outputs": [
    {
     "data": {
      "text/html": [
       "\n",
       "    <table style=\"width:50%; border-collapse: collapse; font-size: 16px;\">\n",
       "        <thead>\n",
       "            <tr>\n",
       "                <th style=\"border: 1px solid #ddd; padding: 8px;\">Metric</th>\n",
       "                <th style=\"border: 1px solid #ddd; padding: 8px;\">Macro</th>\n",
       "                <th style=\"border: 1px solid #ddd; padding: 8px;\">Micro</th>\n",
       "            </tr>\n",
       "        </thead>\n",
       "        <tbody>\n",
       "            <tr><td style=\"border: 1px solid #ddd; padding: 8px;\">Accuracy</td>\n",
       "                <td colspan=\"2\" style=\"border: 1px solid #ddd; padding: 12px; text-align: center;\">\n",
       "                    <b style=\"font-size: 18px;\">88.26%</b>\n",
       "                </td>\n",
       "            </tr>\n",
       "    \n",
       "            <tr><td style=\"border: 1px solid #ddd; padding: 8px;\">Precision</td>\n",
       "                <td style=\"border: 1px solid #ddd; padding: 8px;\">88.26%</td>\n",
       "                <td style=\"border: 1px solid #ddd; padding: 8px;\">88.26%</td></tr>\n",
       "    \n",
       "            <tr><td style=\"border: 1px solid #ddd; padding: 8px;\">Recall</td>\n",
       "                <td style=\"border: 1px solid #ddd; padding: 8px;\">88.41%</td>\n",
       "                <td style=\"border: 1px solid #ddd; padding: 8px;\">88.26%</td></tr>\n",
       "    \n",
       "            <tr><td style=\"border: 1px solid #ddd; padding: 8px;\">F1 Score</td>\n",
       "                <td style=\"border: 1px solid #ddd; padding: 8px;\">88.25%</td>\n",
       "                <td style=\"border: 1px solid #ddd; padding: 8px;\">88.26%</td></tr>\n",
       "        </tbody>\n",
       "    </table>\n",
       "    "
      ],
      "text/plain": [
       "<IPython.core.display.HTML object>"
      ]
     },
     "metadata": {},
     "output_type": "display_data"
    },
    {
     "data": {
      "image/png": "[encoded data removed]",
      "text/plain": [
       "<Figure size 640x480 with 2 Axes>"
      ]
     },
     "metadata": {},
     "output_type": "display_data"
    }
   ],
   "source": [
    "eval(rnn_model_7, device, dev_loader)"
   ]
  },
  {
   "cell_type": "code",
   "execution_count": 84,
   "id": "23d110b3-ba00-496f-9fc9-cd40dec489f9",
   "metadata": {
    "execution": {
     "iopub.execute_input": "2025-07-08T08:10:54.875232Z",
     "iopub.status.busy": "2025-07-08T08:10:54.874964Z",
     "iopub.status.idle": "2025-07-08T08:10:58.412795Z",
     "shell.execute_reply": "2025-07-08T08:10:58.412169Z",
     "shell.execute_reply.started": "2025-07-08T08:10:54.875214Z"
    }
   },
   "outputs": [
    {
     "name": "stdout",
     "output_type": "stream",
     "text": [
      "rnn_model_7.zip saved at /kaggle/working/rnn_model_7.zip | Size: 58.46 MB\n"
     ]
    }
   ],
   "source": [
    "if save_model:\n",
    "    save_model_as_zip(rnn_model_7, \"rnn_model_7\")"
   ]
  },
  {
   "cell_type": "markdown",
   "id": "4a2cba12-d242-40be-b3a7-b50e0df5be37",
   "metadata": {},
   "source": [
    "# LSTM Models"
   ]
  },
  {
   "cell_type": "markdown",
   "id": "e558ecd2-7cb5-41e6-90b7-d4bf4eb23949",
   "metadata": {},
   "source": [
    "## Vanilla LSTM"
   ]
  },
  {
   "cell_type": "code",
   "execution_count": 91,
   "id": "12df221b-65ba-4fd2-98d7-4a999441b41e",
   "metadata": {
    "execution": {
     "iopub.execute_input": "2025-07-08T08:30:20.393851Z",
     "iopub.status.busy": "2025-07-08T08:30:20.393233Z",
     "iopub.status.idle": "2025-07-08T08:30:20.566913Z",
     "shell.execute_reply": "2025-07-08T08:30:20.565942Z",
     "shell.execute_reply.started": "2025-07-08T08:30:20.393827Z"
    }
   },
   "outputs": [],
   "source": [
    "lstm_model_0 = AttentiveLSTM(256, tokenizer.vocab_size, 512, attention = None, bidirectional = False).to(device)\n",
    "optimizer_8 = torch.optim.Adam(lstm_model_0.parameters(), lr=1e-4)"
   ]
  },
  {
   "cell_type": "code",
   "execution_count": 92,
   "id": "029190a4-7479-4baf-ba08-91cf252e02db",
   "metadata": {
    "execution": {
     "iopub.execute_input": "2025-07-08T08:30:23.416964Z",
     "iopub.status.busy": "2025-07-08T08:30:23.416213Z",
     "iopub.status.idle": "2025-07-08T08:59:56.857588Z",
     "shell.execute_reply": "2025-07-08T08:59:56.856555Z",
     "shell.execute_reply.started": "2025-07-08T08:30:23.416940Z"
    }
   },
   "outputs": [
    {
     "name": "stdout",
     "output_type": "stream",
     "text": [
      "Progress      Epoch     Loss        Accuracy        training time per epoch\n",
      "62              1     433.1084      50.04%               89.73 sec\n",
      "62              2     431.2606      50.65%               89.56 sec\n",
      "62              3     426.6933      52.02%               89.02 sec\n",
      "62              4     418.6664      53.67%               90.26 sec\n",
      "62              5     402.3697      53.87%               89.60 sec\n",
      "62              6     398.9692      54.24%               90.52 sec\n",
      "62              7     386.5945      54.71%               90.07 sec\n",
      "62              8     377.7529      56.29%               90.66 sec\n",
      "62              9     380.3649      57.48%               88.43 sec\n",
      "62              10    368.8948      60.88%               87.98 sec\n",
      "62              11    367.2994      61.74%               87.70 sec\n",
      "62              12    366.6709      63.39%               88.14 sec\n",
      "62              13    363.1590      66.42%               87.94 sec\n",
      "62              14    365.1417      67.71%               87.77 sec\n",
      "62              15    363.6375      66.90%               87.42 sec\n",
      "62              16    371.2586      63.29%               88.58 sec\n",
      "62              17    372.4851      61.43%               86.97 sec\n",
      "62              18    367.6373      66.02%               88.07 sec\n",
      "62              19    367.3890      66.28%               87.39 sec\n",
      "62              20    372.9462      61.63%               87.63 sec\n",
      "\n",
      "\n",
      "Total Train Time: 0h 29m 33s\n"
     ]
    }
   ],
   "source": [
    "if not load_pre_trained_model:\n",
    "    train(lstm_model_0, device, criterion, optimizer_8, train_epochs =20, pre_epochs = 0)\n",
    "else:\n",
    "    saved_path = os.path.join(saved_dir, \"lstm_model_0.pth\")\n",
    "    lstm_model_0.load_state_dict(torch.load(saved_path))"
   ]
  },
  {
   "cell_type": "markdown",
   "id": "3fb40879-018e-4af3-997c-6b584b382a48",
   "metadata": {},
   "source": [
    "* Total Train Time: 0h 29m 33s\n",
    "* Train Time Per Epoch: 86s ~ 90s\n",
    "* Training Accracy: 61.63%\n",
    "* Batch Size: 64"
   ]
  },
  {
   "cell_type": "code",
   "execution_count": 94,
   "id": "a29eea85-cd26-4830-b7cc-5498df86dc26",
   "metadata": {
    "execution": {
     "iopub.execute_input": "2025-07-08T09:00:21.638006Z",
     "iopub.status.busy": "2025-07-08T09:00:21.637471Z",
     "iopub.status.idle": "2025-07-08T09:00:43.486557Z",
     "shell.execute_reply": "2025-07-08T09:00:43.485955Z",
     "shell.execute_reply.started": "2025-07-08T09:00:21.637983Z"
    }
   },
   "outputs": [
    {
     "data": {
      "text/html": [
       "\n",
       "    <table style=\"width:50%; border-collapse: collapse; font-size: 16px;\">\n",
       "        <thead>\n",
       "            <tr>\n",
       "                <th style=\"border: 1px solid #ddd; padding: 8px;\">Metric</th>\n",
       "                <th style=\"border: 1px solid #ddd; padding: 8px;\">Macro</th>\n",
       "                <th style=\"border: 1px solid #ddd; padding: 8px;\">Micro</th>\n",
       "            </tr>\n",
       "        </thead>\n",
       "        <tbody>\n",
       "            <tr><td style=\"border: 1px solid #ddd; padding: 8px;\">Accuracy</td>\n",
       "                <td colspan=\"2\" style=\"border: 1px solid #ddd; padding: 12px; text-align: center;\">\n",
       "                    <b style=\"font-size: 18px;\">59.60%</b>\n",
       "                </td>\n",
       "            </tr>\n",
       "    \n",
       "            <tr><td style=\"border: 1px solid #ddd; padding: 8px;\">Precision</td>\n",
       "                <td style=\"border: 1px solid #ddd; padding: 8px;\">59.60%</td>\n",
       "                <td style=\"border: 1px solid #ddd; padding: 8px;\">59.60%</td></tr>\n",
       "    \n",
       "            <tr><td style=\"border: 1px solid #ddd; padding: 8px;\">Recall</td>\n",
       "                <td style=\"border: 1px solid #ddd; padding: 8px;\">62.18%</td>\n",
       "                <td style=\"border: 1px solid #ddd; padding: 8px;\">59.60%</td></tr>\n",
       "    \n",
       "            <tr><td style=\"border: 1px solid #ddd; padding: 8px;\">F1 Score</td>\n",
       "                <td style=\"border: 1px solid #ddd; padding: 8px;\">57.34%</td>\n",
       "                <td style=\"border: 1px solid #ddd; padding: 8px;\">59.60%</td></tr>\n",
       "        </tbody>\n",
       "    </table>\n",
       "    "
      ],
      "text/plain": [
       "<IPython.core.display.HTML object>"
      ]
     },
     "metadata": {},
     "output_type": "display_data"
    },
    {
     "data": {
      "image/png": "[encoded data removed]",
      "text/plain": [
       "<Figure size 640x480 with 2 Axes>"
      ]
     },
     "metadata": {},
     "output_type": "display_data"
    }
   ],
   "source": [
    "eval(lstm_model_0, device, dev_loader)"
   ]
  },
  {
   "cell_type": "code",
   "execution_count": 95,
   "id": "deef8a80-37aa-49ec-afdb-2e9764542c99",
   "metadata": {
    "execution": {
     "iopub.execute_input": "2025-07-08T09:01:15.866397Z",
     "iopub.status.busy": "2025-07-08T09:01:15.865865Z",
     "iopub.status.idle": "2025-07-08T09:01:19.232201Z",
     "shell.execute_reply": "2025-07-08T09:01:19.231592Z",
     "shell.execute_reply.started": "2025-07-08T09:01:15.866375Z"
    }
   },
   "outputs": [
    {
     "name": "stdout",
     "output_type": "stream",
     "text": [
      "lstm_model_0.zip saved at /kaggle/working/lstm_model_0.zip | Size: 57.99 MB\n"
     ]
    }
   ],
   "source": [
    "if save_model:\n",
    "    save_model_as_zip(lstm_model_0, \"lstm_model_0\")"
   ]
  },
  {
   "cell_type": "markdown",
   "id": "81cdaec2-ee6e-47b9-89c5-28f3fa9dda0b",
   "metadata": {},
   "source": [
    "## LSTM with \"dot\" Attention"
   ]
  },
  {
   "cell_type": "code",
   "execution_count": 96,
   "id": "e8ff1ad8-aee9-4310-a75f-c395d8f3ee35",
   "metadata": {
    "execution": {
     "iopub.execute_input": "2025-07-08T09:02:05.316530Z",
     "iopub.status.busy": "2025-07-08T09:02:05.315984Z",
     "iopub.status.idle": "2025-07-08T09:02:05.481143Z",
     "shell.execute_reply": "2025-07-08T09:02:05.480631Z",
     "shell.execute_reply.started": "2025-07-08T09:02:05.316508Z"
    }
   },
   "outputs": [],
   "source": [
    "attention_1 = MultiplicativeAttentions(256, scoring_function = \"dot\", bidirectional = False).to(device)\n",
    "lstm_model_1 = AttentiveLSTM(256, tokenizer.vocab_size, 512, attention = attention_1, bidirectional = False).to(device)\n",
    "optimizer_9 = torch.optim.Adam(lstm_model_1.parameters(), lr=1e-4)"
   ]
  },
  {
   "cell_type": "code",
   "execution_count": 97,
   "id": "76e74c84-4d4f-4b49-b832-788b83f4c757",
   "metadata": {
    "execution": {
     "iopub.execute_input": "2025-07-08T09:02:09.096559Z",
     "iopub.status.busy": "2025-07-08T09:02:09.096269Z",
     "iopub.status.idle": "2025-07-08T09:32:05.484381Z",
     "shell.execute_reply": "2025-07-08T09:32:05.483481Z",
     "shell.execute_reply.started": "2025-07-08T09:02:09.096535Z"
    }
   },
   "outputs": [
    {
     "name": "stdout",
     "output_type": "stream",
     "text": [
      "Progress      Epoch     Loss        Accuracy        training time per epoch\n",
      "62              1     351.7954      65.92%               88.90 sec\n",
      "62              2     230.9895      83.56%               92.14 sec\n",
      "62              3     201.4384      86.39%               91.67 sec\n",
      "62              4     371.9987      71.82%               90.64 sec\n",
      "62              5     277.2069      79.23%               89.88 sec\n",
      "62              6     191.1176      87.45%               89.49 sec\n",
      "62              7     159.4489      90.07%               89.21 sec\n",
      "62              8     137.8632      91.65%               89.47 sec\n",
      "62              9     111.8464      93.70%               89.51 sec\n",
      "62              10    104.4534      94.31%               90.10 sec\n",
      "62              11    87.4881       95.49%               89.06 sec\n",
      "62              12    68.7613       96.74%               89.55 sec\n",
      "62              13    59.4375       97.27%               89.43 sec\n",
      "62              14    47.9336       98.06%               89.83 sec\n",
      "62              15    43.6839       98.15%               90.13 sec\n",
      "62              16    345.0998      80.98%               89.58 sec\n",
      "62              17    202.0908      86.00%               88.76 sec\n",
      "62              18    148.3304      90.62%               89.94 sec\n",
      "62              19    105.8264      93.94%               89.54 sec\n",
      "62              20    76.1664       96.01%               89.54 sec\n",
      "\n",
      "\n",
      "Total Train Time: 0h 29m 56s\n"
     ]
    }
   ],
   "source": [
    "if not load_pre_trained_model:\n",
    "    train(lstm_model_1, device, criterion, optimizer_9, train_epochs =20, pre_epochs = 0)\n",
    "else:\n",
    "    saved_path = os.path.join(saved_dir, \"lstm_model_1.pth\")\n",
    "    lstm_model_1.load_state_dict(torch.load(saved_path))"
   ]
  },
  {
   "cell_type": "markdown",
   "id": "dd93d856-2588-4a96-8503-cbe01252058f",
   "metadata": {},
   "source": [
    "* Total Train Time: 0h 29m 56s\n",
    "* Train Time Per Epoch: 88s ~ 92s\n",
    "* Training Accracy: 96.01%\n",
    "* Batch Size: 64"
   ]
  },
  {
   "cell_type": "code",
   "execution_count": 98,
   "id": "7d93df52-b33d-418a-bd88-0484a5a47791",
   "metadata": {
    "execution": {
     "iopub.execute_input": "2025-07-08T09:38:39.473253Z",
     "iopub.status.busy": "2025-07-08T09:38:39.472370Z",
     "iopub.status.idle": "2025-07-08T09:39:01.625113Z",
     "shell.execute_reply": "2025-07-08T09:39:01.624529Z",
     "shell.execute_reply.started": "2025-07-08T09:38:39.473219Z"
    }
   },
   "outputs": [
    {
     "data": {
      "text/html": [
       "\n",
       "    <table style=\"width:50%; border-collapse: collapse; font-size: 16px;\">\n",
       "        <thead>\n",
       "            <tr>\n",
       "                <th style=\"border: 1px solid #ddd; padding: 8px;\">Metric</th>\n",
       "                <th style=\"border: 1px solid #ddd; padding: 8px;\">Macro</th>\n",
       "                <th style=\"border: 1px solid #ddd; padding: 8px;\">Micro</th>\n",
       "            </tr>\n",
       "        </thead>\n",
       "        <tbody>\n",
       "            <tr><td style=\"border: 1px solid #ddd; padding: 8px;\">Accuracy</td>\n",
       "                <td colspan=\"2\" style=\"border: 1px solid #ddd; padding: 12px; text-align: center;\">\n",
       "                    <b style=\"font-size: 18px;\">86.40%</b>\n",
       "                </td>\n",
       "            </tr>\n",
       "    \n",
       "            <tr><td style=\"border: 1px solid #ddd; padding: 8px;\">Precision</td>\n",
       "                <td style=\"border: 1px solid #ddd; padding: 8px;\">86.40%</td>\n",
       "                <td style=\"border: 1px solid #ddd; padding: 8px;\">86.40%</td></tr>\n",
       "    \n",
       "            <tr><td style=\"border: 1px solid #ddd; padding: 8px;\">Recall</td>\n",
       "                <td style=\"border: 1px solid #ddd; padding: 8px;\">86.40%</td>\n",
       "                <td style=\"border: 1px solid #ddd; padding: 8px;\">86.40%</td></tr>\n",
       "    \n",
       "            <tr><td style=\"border: 1px solid #ddd; padding: 8px;\">F1 Score</td>\n",
       "                <td style=\"border: 1px solid #ddd; padding: 8px;\">86.40%</td>\n",
       "                <td style=\"border: 1px solid #ddd; padding: 8px;\">86.40%</td></tr>\n",
       "        </tbody>\n",
       "    </table>\n",
       "    "
      ],
      "text/plain": [
       "<IPython.core.display.HTML object>"
      ]
     },
     "metadata": {},
     "output_type": "display_data"
    },
    {
     "data": {
      "image/png": "[encoded data removed]",
      "text/plain": [
       "<Figure size 640x480 with 2 Axes>"
      ]
     },
     "metadata": {},
     "output_type": "display_data"
    }
   ],
   "source": [
    "eval(lstm_model_1, device, dev_loader)"
   ]
  },
  {
   "cell_type": "code",
   "execution_count": 99,
   "id": "e9d756b7-916d-4a95-925e-fb1d2736232e",
   "metadata": {
    "execution": {
     "iopub.execute_input": "2025-07-08T09:39:13.481731Z",
     "iopub.status.busy": "2025-07-08T09:39:13.481450Z",
     "iopub.status.idle": "2025-07-08T09:39:16.944050Z",
     "shell.execute_reply": "2025-07-08T09:39:16.943230Z",
     "shell.execute_reply.started": "2025-07-08T09:39:13.481709Z"
    }
   },
   "outputs": [
    {
     "name": "stdout",
     "output_type": "stream",
     "text": [
      "lstm_model_1.zip saved at /kaggle/working/lstm_model_1.zip | Size: 58.69 MB\n"
     ]
    }
   ],
   "source": [
    "if save_model:\n",
    "    save_model_as_zip(lstm_model_1, \"lstm_model_1\")"
   ]
  },
  {
   "cell_type": "markdown",
   "id": "0af31f1c-e0b8-4c45-b0cd-32a55fca645a",
   "metadata": {},
   "source": [
    "## LSTM with \"general\" Attention"
   ]
  },
  {
   "cell_type": "code",
   "execution_count": 100,
   "id": "5025b0a3-5dd0-49b3-b1b1-5ae4f767354b",
   "metadata": {
    "execution": {
     "iopub.execute_input": "2025-07-08T09:39:49.545257Z",
     "iopub.status.busy": "2025-07-08T09:39:49.544983Z",
     "iopub.status.idle": "2025-07-08T09:39:49.717083Z",
     "shell.execute_reply": "2025-07-08T09:39:49.716561Z",
     "shell.execute_reply.started": "2025-07-08T09:39:49.545236Z"
    }
   },
   "outputs": [],
   "source": [
    "attention_2 = MultiplicativeAttentions(256, scoring_function = \"general\", bidirectional = False).to(device)\n",
    "lstm_model_2 = AttentiveLSTM(256, tokenizer.vocab_size, 512, attention = attention_2, bidirectional = False).to(device)\n",
    "optimizer_10 = torch.optim.Adam(lstm_model_2.parameters(), lr=1e-4)"
   ]
  },
  {
   "cell_type": "code",
   "execution_count": 101,
   "id": "0248e97f-c024-4038-a4d5-14fc33e47ea0",
   "metadata": {
    "execution": {
     "iopub.execute_input": "2025-07-08T09:39:52.919958Z",
     "iopub.status.busy": "2025-07-08T09:39:52.919472Z",
     "iopub.status.idle": "2025-07-08T10:09:52.500741Z",
     "shell.execute_reply": "2025-07-08T10:09:52.499935Z",
     "shell.execute_reply.started": "2025-07-08T09:39:52.919936Z"
    }
   },
   "outputs": [
    {
     "name": "stdout",
     "output_type": "stream",
     "text": [
      "Progress      Epoch     Loss        Accuracy        training time per epoch\n",
      "62              1     322.1351      70.28%               89.90 sec\n",
      "62              2     205.4953      85.67%               90.61 sec\n",
      "62              3     164.6527      89.04%               90.85 sec\n",
      "62              4     138.0824      91.27%               91.86 sec\n",
      "62              5     117.3769      92.84%               89.93 sec\n",
      "62              6     96.6198       94.29%               90.03 sec\n",
      "62              7     81.9575       95.24%               89.78 sec\n",
      "62              8     67.4564       96.20%               89.79 sec\n",
      "62              9     57.9481       96.90%               89.84 sec\n",
      "62              10    126.3379      92.48%               90.46 sec\n",
      "62              11    58.9945       96.78%               90.77 sec\n",
      "62              12    40.4858       97.97%               89.03 sec\n",
      "62              13    34.2602       98.35%               89.49 sec\n",
      "62              14    31.4951       98.49%               89.13 sec\n",
      "62              15    27.6752       98.72%               89.73 sec\n",
      "62              16    26.8563       98.77%               89.38 sec\n",
      "62              17    26.7537       98.70%               89.35 sec\n",
      "62              18    22.6328       98.95%               90.35 sec\n",
      "62              19    22.6262       98.88%               89.57 sec\n",
      "62              20    45.8517       97.52%               89.71 sec\n",
      "\n",
      "\n",
      "Total Train Time: 0h 29m 59s\n"
     ]
    }
   ],
   "source": [
    "if not load_pre_trained_model:\n",
    "    train(lstm_model_2, device, criterion, optimizer_10, train_epochs =20, pre_epochs = 0)\n",
    "else:\n",
    "    saved_path = os.path.join(saved_dir, \"lstm_model_2.pth\")\n",
    "    lstm_model_2.load_state_dict(torch.load(saved_path))"
   ]
  },
  {
   "cell_type": "markdown",
   "id": "d50e12ca-9b7a-4e67-a5fa-acc5d4cab229",
   "metadata": {},
   "source": [
    "* Total Train Time: 0h 29m 59s\n",
    "* Train Time Per Epoch: 89s ~ 91s\n",
    "* Training Accracy: 97.52%\n",
    "* Batch Size: 64"
   ]
  },
  {
   "cell_type": "code",
   "execution_count": 103,
   "id": "6d026716-9d73-4fbd-9372-f5fd3c6642c9",
   "metadata": {
    "execution": {
     "iopub.execute_input": "2025-07-08T10:10:06.461249Z",
     "iopub.status.busy": "2025-07-08T10:10:06.460786Z",
     "iopub.status.idle": "2025-07-08T10:10:28.709106Z",
     "shell.execute_reply": "2025-07-08T10:10:28.708356Z",
     "shell.execute_reply.started": "2025-07-08T10:10:06.461227Z"
    }
   },
   "outputs": [
    {
     "data": {
      "text/html": [
       "\n",
       "    <table style=\"width:50%; border-collapse: collapse; font-size: 16px;\">\n",
       "        <thead>\n",
       "            <tr>\n",
       "                <th style=\"border: 1px solid #ddd; padding: 8px;\">Metric</th>\n",
       "                <th style=\"border: 1px solid #ddd; padding: 8px;\">Macro</th>\n",
       "                <th style=\"border: 1px solid #ddd; padding: 8px;\">Micro</th>\n",
       "            </tr>\n",
       "        </thead>\n",
       "        <tbody>\n",
       "            <tr><td style=\"border: 1px solid #ddd; padding: 8px;\">Accuracy</td>\n",
       "                <td colspan=\"2\" style=\"border: 1px solid #ddd; padding: 12px; text-align: center;\">\n",
       "                    <b style=\"font-size: 18px;\">88.90%</b>\n",
       "                </td>\n",
       "            </tr>\n",
       "    \n",
       "            <tr><td style=\"border: 1px solid #ddd; padding: 8px;\">Precision</td>\n",
       "                <td style=\"border: 1px solid #ddd; padding: 8px;\">88.90%</td>\n",
       "                <td style=\"border: 1px solid #ddd; padding: 8px;\">88.90%</td></tr>\n",
       "    \n",
       "            <tr><td style=\"border: 1px solid #ddd; padding: 8px;\">Recall</td>\n",
       "                <td style=\"border: 1px solid #ddd; padding: 8px;\">88.92%</td>\n",
       "                <td style=\"border: 1px solid #ddd; padding: 8px;\">88.90%</td></tr>\n",
       "    \n",
       "            <tr><td style=\"border: 1px solid #ddd; padding: 8px;\">F1 Score</td>\n",
       "                <td style=\"border: 1px solid #ddd; padding: 8px;\">88.90%</td>\n",
       "                <td style=\"border: 1px solid #ddd; padding: 8px;\">88.90%</td></tr>\n",
       "        </tbody>\n",
       "    </table>\n",
       "    "
      ],
      "text/plain": [
       "<IPython.core.display.HTML object>"
      ]
     },
     "metadata": {},
     "output_type": "display_data"
    },
    {
     "data": {
      "image/png": "[encoded data removed]",
      "text/plain": [
       "<Figure size 640x480 with 2 Axes>"
      ]
     },
     "metadata": {},
     "output_type": "display_data"
    }
   ],
   "source": [
    "eval(lstm_model_2, device, dev_loader)"
   ]
  },
  {
   "cell_type": "code",
   "execution_count": 104,
   "id": "e5c1b1aa-3259-47e7-913c-0675ed36e11e",
   "metadata": {
    "execution": {
     "iopub.execute_input": "2025-07-08T10:12:17.354508Z",
     "iopub.status.busy": "2025-07-08T10:12:17.353943Z",
     "iopub.status.idle": "2025-07-08T10:12:20.857888Z",
     "shell.execute_reply": "2025-07-08T10:12:20.857267Z",
     "shell.execute_reply.started": "2025-07-08T10:12:17.354482Z"
    }
   },
   "outputs": [
    {
     "name": "stdout",
     "output_type": "stream",
     "text": [
      "lstm_model_2.zip saved at /kaggle/working/lstm_model_2.zip | Size: 58.69 MB\n"
     ]
    }
   ],
   "source": [
    "if save_model:\n",
    "    save_model_as_zip(lstm_model_2, \"lstm_model_2\")"
   ]
  },
  {
   "cell_type": "markdown",
   "id": "7f879b11-2ec3-48bf-88d7-a5084ada6c04",
   "metadata": {},
   "source": [
    "## LSTM with \"concat\" Attention"
   ]
  },
  {
   "cell_type": "code",
   "execution_count": 105,
   "id": "602d4660-9342-4b57-8b72-8ea29c091a16",
   "metadata": {
    "execution": {
     "iopub.execute_input": "2025-07-08T10:12:52.316936Z",
     "iopub.status.busy": "2025-07-08T10:12:52.316300Z",
     "iopub.status.idle": "2025-07-08T10:12:52.485647Z",
     "shell.execute_reply": "2025-07-08T10:12:52.485056Z",
     "shell.execute_reply.started": "2025-07-08T10:12:52.316910Z"
    }
   },
   "outputs": [],
   "source": [
    "attention_3 = MultiplicativeAttentions(256, scoring_function = \"concat\", bidirectional = False).to(device)\n",
    "lstm_model_3 = AttentiveLSTM(256, tokenizer.vocab_size, 512, attention = attention_3, bidirectional = False).to(device)\n",
    "optimizer_11 = torch.optim.Adam(lstm_model_3.parameters(), lr=1e-4)"
   ]
  },
  {
   "cell_type": "code",
   "execution_count": 106,
   "id": "088ff072-34b5-4494-9d59-14f0de47ee16",
   "metadata": {
    "execution": {
     "iopub.execute_input": "2025-07-08T10:13:21.650402Z",
     "iopub.status.busy": "2025-07-08T10:13:21.649812Z",
     "iopub.status.idle": "2025-07-08T10:43:29.343600Z",
     "shell.execute_reply": "2025-07-08T10:43:29.342658Z",
     "shell.execute_reply.started": "2025-07-08T10:13:21.650376Z"
    }
   },
   "outputs": [
    {
     "name": "stdout",
     "output_type": "stream",
     "text": [
      "Progress      Epoch     Loss        Accuracy        training time per epoch\n",
      "62              1     309.9078      71.77%               90.33 sec\n",
      "62              2     198.1418      86.09%               91.24 sec\n",
      "62              3     177.0915      88.58%               91.41 sec\n",
      "62              4     139.9905      90.94%               90.85 sec\n",
      "62              5     120.8618      92.42%               91.60 sec\n",
      "62              6     100.0169      93.89%               90.02 sec\n",
      "62              7     84.7384       95.12%               91.02 sec\n",
      "62              8     71.4714       95.96%               90.52 sec\n",
      "62              9     57.2487       96.93%               90.77 sec\n",
      "62              10    47.5344       97.48%               90.89 sec\n",
      "62              11    37.4827       98.15%               90.36 sec\n",
      "62              12    34.1586       98.28%               89.99 sec\n",
      "62              13    26.4568       98.77%               90.53 sec\n",
      "62              14    24.5948       98.83%               90.00 sec\n",
      "62              15    19.0829       99.17%               90.22 sec\n",
      "62              16    20.2755       99.07%               90.48 sec\n",
      "62              17    17.9353       99.22%               88.50 sec\n",
      "62              18    16.8035       99.25%               89.78 sec\n",
      "62              19    11.5365       99.54%               89.35 sec\n",
      "62              20    13.7189       99.38%               89.80 sec\n",
      "\n",
      "\n",
      "Total Train Time: 0h 30m 7s\n"
     ]
    }
   ],
   "source": [
    "if not load_pre_trained_model:\n",
    "    train(lstm_model_3, device, criterion, optimizer_11, train_epochs =20, pre_epochs = 0)\n",
    "else:\n",
    "    saved_path = os.path.join(saved_dir, \"lstm_model_3.pth\")\n",
    "    lstm_model_3.load_state_dict(torch.load(saved_path))"
   ]
  },
  {
   "cell_type": "markdown",
   "id": "08ee1b76-0ff0-4eb6-b096-a8f054eea6a8",
   "metadata": {},
   "source": [
    "* Total Train Time: 0h 30m 07s\n",
    "* Train Time Per Epoch: 88s ~ 91s\n",
    "* Training Accracy: 99.38%\n",
    "* Batch Size: 64"
   ]
  },
  {
   "cell_type": "code",
   "execution_count": 107,
   "id": "f84f52fc-c3b8-4627-b66b-e8e8769343ce",
   "metadata": {
    "execution": {
     "iopub.execute_input": "2025-07-08T10:44:41.520969Z",
     "iopub.status.busy": "2025-07-08T10:44:41.520271Z",
     "iopub.status.idle": "2025-07-08T10:45:03.638297Z",
     "shell.execute_reply": "2025-07-08T10:45:03.637566Z",
     "shell.execute_reply.started": "2025-07-08T10:44:41.520938Z"
    }
   },
   "outputs": [
    {
     "data": {
      "text/html": [
       "\n",
       "    <table style=\"width:50%; border-collapse: collapse; font-size: 16px;\">\n",
       "        <thead>\n",
       "            <tr>\n",
       "                <th style=\"border: 1px solid #ddd; padding: 8px;\">Metric</th>\n",
       "                <th style=\"border: 1px solid #ddd; padding: 8px;\">Macro</th>\n",
       "                <th style=\"border: 1px solid #ddd; padding: 8px;\">Micro</th>\n",
       "            </tr>\n",
       "        </thead>\n",
       "        <tbody>\n",
       "            <tr><td style=\"border: 1px solid #ddd; padding: 8px;\">Accuracy</td>\n",
       "                <td colspan=\"2\" style=\"border: 1px solid #ddd; padding: 12px; text-align: center;\">\n",
       "                    <b style=\"font-size: 18px;\">88.46%</b>\n",
       "                </td>\n",
       "            </tr>\n",
       "    \n",
       "            <tr><td style=\"border: 1px solid #ddd; padding: 8px;\">Precision</td>\n",
       "                <td style=\"border: 1px solid #ddd; padding: 8px;\">88.46%</td>\n",
       "                <td style=\"border: 1px solid #ddd; padding: 8px;\">88.46%</td></tr>\n",
       "    \n",
       "            <tr><td style=\"border: 1px solid #ddd; padding: 8px;\">Recall</td>\n",
       "                <td style=\"border: 1px solid #ddd; padding: 8px;\">88.51%</td>\n",
       "                <td style=\"border: 1px solid #ddd; padding: 8px;\">88.46%</td></tr>\n",
       "    \n",
       "            <tr><td style=\"border: 1px solid #ddd; padding: 8px;\">F1 Score</td>\n",
       "                <td style=\"border: 1px solid #ddd; padding: 8px;\">88.46%</td>\n",
       "                <td style=\"border: 1px solid #ddd; padding: 8px;\">88.46%</td></tr>\n",
       "        </tbody>\n",
       "    </table>\n",
       "    "
      ],
      "text/plain": [
       "<IPython.core.display.HTML object>"
      ]
     },
     "metadata": {},
     "output_type": "display_data"
    },
    {
     "data": {
      "image/png": "[encoded data removed]",
      "text/plain": [
       "<Figure size 640x480 with 2 Axes>"
      ]
     },
     "metadata": {},
     "output_type": "display_data"
    }
   ],
   "source": [
    "eval(lstm_model_3, device, dev_loader)"
   ]
  },
  {
   "cell_type": "code",
   "execution_count": 108,
   "id": "a5127a47-5057-4a8d-a982-91a5b702d22f",
   "metadata": {
    "execution": {
     "iopub.execute_input": "2025-07-08T10:45:14.947731Z",
     "iopub.status.busy": "2025-07-08T10:45:14.947035Z",
     "iopub.status.idle": "2025-07-08T10:45:18.365310Z",
     "shell.execute_reply": "2025-07-08T10:45:18.364550Z",
     "shell.execute_reply.started": "2025-07-08T10:45:14.947706Z"
    }
   },
   "outputs": [
    {
     "name": "stdout",
     "output_type": "stream",
     "text": [
      "lstm_model_3.zip saved at /kaggle/working/lstm_model_3.zip | Size: 58.69 MB\n"
     ]
    }
   ],
   "source": [
    "if save_model:\n",
    "    save_model_as_zip(lstm_model_3, \"lstm_model_3\")"
   ]
  },
  {
   "cell_type": "markdown",
   "id": "cedaf82e-812e-465f-ac3a-46998bfb329b",
   "metadata": {},
   "source": [
    "# Bidirectional LSTM Models"
   ]
  },
  {
   "cell_type": "code",
   "execution_count": 109,
   "id": "7a3bc5d7-9976-4611-a1fc-9f82595373bf",
   "metadata": {
    "execution": {
     "iopub.execute_input": "2025-07-08T10:45:41.350699Z",
     "iopub.status.busy": "2025-07-08T10:45:41.350437Z",
     "iopub.status.idle": "2025-07-08T10:45:41.522381Z",
     "shell.execute_reply": "2025-07-08T10:45:41.521623Z",
     "shell.execute_reply.started": "2025-07-08T10:45:41.350681Z"
    }
   },
   "outputs": [],
   "source": [
    "lstm_model_4 = AttentiveLSTM(256, tokenizer.vocab_size, 512, attention = None, bidirectional = True).to(device)\n",
    "optimizer_12 = torch.optim.Adam(lstm_model_4.parameters(), lr=1e-4)"
   ]
  },
  {
   "cell_type": "code",
   "execution_count": 110,
   "id": "6a2108c1-538f-4cbc-9fb0-65d6f0ad6f77",
   "metadata": {
    "execution": {
     "iopub.execute_input": "2025-07-08T10:45:48.634621Z",
     "iopub.status.busy": "2025-07-08T10:45:48.634317Z",
     "iopub.status.idle": "2025-07-08T11:20:11.973609Z",
     "shell.execute_reply": "2025-07-08T11:20:11.972732Z",
     "shell.execute_reply.started": "2025-07-08T10:45:48.634598Z"
    }
   },
   "outputs": [
    {
     "name": "stdout",
     "output_type": "stream",
     "text": [
      "Progress      Epoch     Loss        Accuracy        training time per epoch\n",
      "62              1     402.0263      58.23%              100.11 sec\n",
      "62              2     351.6844      68.86%               99.91 sec\n",
      "62              3     292.0289      77.90%              100.89 sec\n",
      "62              4     245.7825      83.02%              100.82 sec\n",
      "62              5     215.4065      85.40%              100.86 sec\n",
      "62              6     173.0406      89.06%              100.81 sec\n",
      "62              7     154.3246      90.21%              101.12 sec\n",
      "62              8     126.0459      92.49%              101.71 sec\n",
      "62              9     112.7600      93.36%              101.06 sec\n",
      "62              10    100.7112      94.12%              106.05 sec\n",
      "62              11    184.0329      86.69%              109.92 sec\n",
      "62              12    88.6805       94.97%              104.73 sec\n",
      "62              13    70.8968       96.20%              105.94 sec\n",
      "62              14    60.1548       96.84%              104.80 sec\n",
      "62              15    54.7293       97.17%              104.43 sec\n",
      "62              16    51.3223       97.44%              104.30 sec\n",
      "62              17    89.4941       94.46%              104.57 sec\n",
      "62              18    54.8174       97.06%              104.03 sec\n",
      "62              19    46.5740       97.67%              103.68 sec\n",
      "62              20    34.9819       98.28%              103.59 sec\n",
      "\n",
      "\n",
      "Total Train Time: 0h 34m 23s\n"
     ]
    }
   ],
   "source": [
    "if not load_pre_trained_model:\n",
    "    train(lstm_model_4, device, criterion, optimizer_12, train_epochs =20, pre_epochs = 0)\n",
    "else:\n",
    "    saved_path = os.path.join(saved_dir, \"lstm_model_4.pth\")\n",
    "    lstm_model_4.load_state_dict(torch.load(saved_path))"
   ]
  },
  {
   "cell_type": "markdown",
   "id": "10aa0a10-7bcd-441f-873c-d072fecf5983",
   "metadata": {},
   "source": [
    "* Total Train Time: 0h 34m 23s\n",
    "* Train Time Per Epoch: 99s ~ 109s\n",
    "* Training Accracy: 98.28%\n",
    "* Batch Size: 64"
   ]
  },
  {
   "cell_type": "code",
   "execution_count": 112,
   "id": "8e46551c-e021-40e2-9cc7-6cab235c08ba",
   "metadata": {
    "execution": {
     "iopub.execute_input": "2025-07-08T11:21:43.789616Z",
     "iopub.status.busy": "2025-07-08T11:21:43.788913Z",
     "iopub.status.idle": "2025-07-08T11:22:08.128182Z",
     "shell.execute_reply": "2025-07-08T11:22:08.127207Z",
     "shell.execute_reply.started": "2025-07-08T11:21:43.789592Z"
    }
   },
   "outputs": [
    {
     "data": {
      "text/html": [
       "\n",
       "    <table style=\"width:50%; border-collapse: collapse; font-size: 16px;\">\n",
       "        <thead>\n",
       "            <tr>\n",
       "                <th style=\"border: 1px solid #ddd; padding: 8px;\">Metric</th>\n",
       "                <th style=\"border: 1px solid #ddd; padding: 8px;\">Macro</th>\n",
       "                <th style=\"border: 1px solid #ddd; padding: 8px;\">Micro</th>\n",
       "            </tr>\n",
       "        </thead>\n",
       "        <tbody>\n",
       "            <tr><td style=\"border: 1px solid #ddd; padding: 8px;\">Accuracy</td>\n",
       "                <td colspan=\"2\" style=\"border: 1px solid #ddd; padding: 12px; text-align: center;\">\n",
       "                    <b style=\"font-size: 18px;\">86.56%</b>\n",
       "                </td>\n",
       "            </tr>\n",
       "    \n",
       "            <tr><td style=\"border: 1px solid #ddd; padding: 8px;\">Precision</td>\n",
       "                <td style=\"border: 1px solid #ddd; padding: 8px;\">86.56%</td>\n",
       "                <td style=\"border: 1px solid #ddd; padding: 8px;\">86.56%</td></tr>\n",
       "    \n",
       "            <tr><td style=\"border: 1px solid #ddd; padding: 8px;\">Recall</td>\n",
       "                <td style=\"border: 1px solid #ddd; padding: 8px;\">86.57%</td>\n",
       "                <td style=\"border: 1px solid #ddd; padding: 8px;\">86.56%</td></tr>\n",
       "    \n",
       "            <tr><td style=\"border: 1px solid #ddd; padding: 8px;\">F1 Score</td>\n",
       "                <td style=\"border: 1px solid #ddd; padding: 8px;\">86.56%</td>\n",
       "                <td style=\"border: 1px solid #ddd; padding: 8px;\">86.56%</td></tr>\n",
       "        </tbody>\n",
       "    </table>\n",
       "    "
      ],
      "text/plain": [
       "<IPython.core.display.HTML object>"
      ]
     },
     "metadata": {},
     "output_type": "display_data"
    },
    {
     "data": {
      "image/png": "[encoded data removed]",
      "text/plain": [
       "<Figure size 640x480 with 2 Axes>"
      ]
     },
     "metadata": {},
     "output_type": "display_data"
    }
   ],
   "source": [
    "eval(lstm_model_4, device, dev_loader)"
   ]
  },
  {
   "cell_type": "code",
   "execution_count": 113,
   "id": "70b29538-1b9a-46ef-a094-a0f53d4668ca",
   "metadata": {
    "execution": {
     "iopub.execute_input": "2025-07-08T11:22:16.641231Z",
     "iopub.status.busy": "2025-07-08T11:22:16.640691Z",
     "iopub.status.idle": "2025-07-08T11:22:20.283083Z",
     "shell.execute_reply": "2025-07-08T11:22:20.282211Z",
     "shell.execute_reply.started": "2025-07-08T11:22:16.641209Z"
    }
   },
   "outputs": [
    {
     "name": "stdout",
     "output_type": "stream",
     "text": [
      "lstm_model_4.zip saved at /kaggle/working/lstm_model_4.zip | Size: 60.78 MB\n"
     ]
    }
   ],
   "source": [
    "if save_model:\n",
    "    save_model_as_zip(lstm_model_4, \"lstm_model_4\")"
   ]
  },
  {
   "cell_type": "markdown",
   "id": "9add3c42-75a8-4409-9c17-004878c7d2ee",
   "metadata": {},
   "source": [
    "## Bi-LSTM with \"dot\" Attention"
   ]
  },
  {
   "cell_type": "code",
   "execution_count": 114,
   "id": "c3f416b5-b92b-4b4d-aff3-09b9a2e0826d",
   "metadata": {
    "execution": {
     "iopub.execute_input": "2025-07-08T11:22:38.434723Z",
     "iopub.status.busy": "2025-07-08T11:22:38.434118Z",
     "iopub.status.idle": "2025-07-08T11:22:38.617132Z",
     "shell.execute_reply": "2025-07-08T11:22:38.616605Z",
     "shell.execute_reply.started": "2025-07-08T11:22:38.434681Z"
    }
   },
   "outputs": [],
   "source": [
    "attention_4 = MultiplicativeAttentions(256, scoring_function = \"dot\", bidirectional = True).to(device)\n",
    "lstm_model_5 = AttentiveLSTM(256, tokenizer.vocab_size, 512, attention = attention_4, bidirectional = True).to(device)\n",
    "optimizer_13 = torch.optim.Adam(lstm_model_5.parameters(), lr=1e-4)"
   ]
  },
  {
   "cell_type": "code",
   "execution_count": 115,
   "id": "d1911d6d-a2cf-401d-884a-99cbff9c369d",
   "metadata": {
    "execution": {
     "iopub.execute_input": "2025-07-08T11:22:44.772407Z",
     "iopub.status.busy": "2025-07-08T11:22:44.771843Z",
     "iopub.status.idle": "2025-07-08T11:57:48.715769Z",
     "shell.execute_reply": "2025-07-08T11:57:48.714641Z",
     "shell.execute_reply.started": "2025-07-08T11:22:44.772384Z"
    }
   },
   "outputs": [
    {
     "name": "stdout",
     "output_type": "stream",
     "text": [
      "Progress      Epoch     Loss        Accuracy        training time per epoch\n",
      "62              1     363.4089      64.52%              105.87 sec\n",
      "62              2     231.8947      83.07%              106.23 sec\n",
      "62              3     167.6301      88.81%              104.64 sec\n",
      "62              4     129.0442      91.83%              105.21 sec\n",
      "62              5     98.5995       93.97%              105.70 sec\n",
      "62              6     74.1124       95.74%              105.42 sec\n",
      "62              7     52.5752       97.15%              104.56 sec\n",
      "62              8     38.4538       98.06%              104.78 sec\n",
      "62              9     28.7152       98.59%              105.82 sec\n",
      "62              10    23.5255       98.87%              104.68 sec\n",
      "62              11    20.8855       99.04%              105.55 sec\n",
      "62              12    16.0599       99.28%              105.26 sec\n",
      "62              13    15.3435       99.28%              105.56 sec\n",
      "62              14    12.7254       99.44%              104.62 sec\n",
      "62              15    10.6922       99.53%              105.62 sec\n",
      "62              16    10.8087       99.50%              104.84 sec\n",
      "62              17    10.2555       99.53%              105.04 sec\n",
      "62              18    7.8327        99.67%              104.81 sec\n",
      "62              19    11.4222       99.40%              105.12 sec\n",
      "62              20    5.8918        99.74%              104.58 sec\n",
      "\n",
      "\n",
      "Total Train Time: 0h 35m 3s\n"
     ]
    }
   ],
   "source": [
    "if not load_pre_trained_model:\n",
    "    train(lstm_model_5, device, criterion, optimizer_13, train_epochs =20, pre_epochs = 0)\n",
    "else:\n",
    "    saved_path = os.path.join(saved_dir, \"lstm_model_5.pth\")\n",
    "    lstm_model_5.load_state_dict(torch.load(saved_path))"
   ]
  },
  {
   "cell_type": "markdown",
   "id": "ea76d7c5-35af-4c66-81e4-e391dfa4fbc0",
   "metadata": {},
   "source": [
    "* Total Train Time: 0h 35m 3s\n",
    "* Train Time Per Epoch: 104s ~ 106s\n",
    "* Training Accracy: 99.74%\n",
    "* Batch Size: 64"
   ]
  },
  {
   "cell_type": "code",
   "execution_count": 117,
   "id": "a42fd899-acec-4686-90a5-80ff3e2f06b4",
   "metadata": {
    "execution": {
     "iopub.execute_input": "2025-07-08T11:59:14.968295Z",
     "iopub.status.busy": "2025-07-08T11:59:14.968008Z",
     "iopub.status.idle": "2025-07-08T11:59:39.427737Z",
     "shell.execute_reply": "2025-07-08T11:59:39.426897Z",
     "shell.execute_reply.started": "2025-07-08T11:59:14.968274Z"
    }
   },
   "outputs": [
    {
     "data": {
      "text/html": [
       "\n",
       "    <table style=\"width:50%; border-collapse: collapse; font-size: 16px;\">\n",
       "        <thead>\n",
       "            <tr>\n",
       "                <th style=\"border: 1px solid #ddd; padding: 8px;\">Metric</th>\n",
       "                <th style=\"border: 1px solid #ddd; padding: 8px;\">Macro</th>\n",
       "                <th style=\"border: 1px solid #ddd; padding: 8px;\">Micro</th>\n",
       "            </tr>\n",
       "        </thead>\n",
       "        <tbody>\n",
       "            <tr><td style=\"border: 1px solid #ddd; padding: 8px;\">Accuracy</td>\n",
       "                <td colspan=\"2\" style=\"border: 1px solid #ddd; padding: 12px; text-align: center;\">\n",
       "                    <b style=\"font-size: 18px;\">87.64%</b>\n",
       "                </td>\n",
       "            </tr>\n",
       "    \n",
       "            <tr><td style=\"border: 1px solid #ddd; padding: 8px;\">Precision</td>\n",
       "                <td style=\"border: 1px solid #ddd; padding: 8px;\">87.64%</td>\n",
       "                <td style=\"border: 1px solid #ddd; padding: 8px;\">87.64%</td></tr>\n",
       "    \n",
       "            <tr><td style=\"border: 1px solid #ddd; padding: 8px;\">Recall</td>\n",
       "                <td style=\"border: 1px solid #ddd; padding: 8px;\">87.94%</td>\n",
       "                <td style=\"border: 1px solid #ddd; padding: 8px;\">87.64%</td></tr>\n",
       "    \n",
       "            <tr><td style=\"border: 1px solid #ddd; padding: 8px;\">F1 Score</td>\n",
       "                <td style=\"border: 1px solid #ddd; padding: 8px;\">87.62%</td>\n",
       "                <td style=\"border: 1px solid #ddd; padding: 8px;\">87.64%</td></tr>\n",
       "        </tbody>\n",
       "    </table>\n",
       "    "
      ],
      "text/plain": [
       "<IPython.core.display.HTML object>"
      ]
     },
     "metadata": {},
     "output_type": "display_data"
    },
    {
     "data": {
      "image/png": "[encoded data removed]",
      "text/plain": [
       "<Figure size 640x480 with 2 Axes>"
      ]
     },
     "metadata": {},
     "output_type": "display_data"
    }
   ],
   "source": [
    "eval(lstm_model_5, device, dev_loader)"
   ]
  },
  {
   "cell_type": "code",
   "execution_count": 118,
   "id": "7142c913-3125-40b4-87e0-21d0cdced08c",
   "metadata": {
    "execution": {
     "iopub.execute_input": "2025-07-08T11:59:49.854374Z",
     "iopub.status.busy": "2025-07-08T11:59:49.853907Z",
     "iopub.status.idle": "2025-07-08T11:59:53.656059Z",
     "shell.execute_reply": "2025-07-08T11:59:53.655221Z",
     "shell.execute_reply.started": "2025-07-08T11:59:49.854351Z"
    }
   },
   "outputs": [
    {
     "name": "stdout",
     "output_type": "stream",
     "text": [
      "lstm_model_5.zip saved at /kaggle/working/lstm_model_5.zip | Size: 62.61 MB\n"
     ]
    }
   ],
   "source": [
    "if save_model:\n",
    "    save_model_as_zip(lstm_model_5, \"lstm_model_5\")"
   ]
  },
  {
   "cell_type": "markdown",
   "id": "799b52ef-2495-41e9-935b-455101610b43",
   "metadata": {},
   "source": [
    "## Bi-LSTM with \"general\" Attention"
   ]
  },
  {
   "cell_type": "code",
   "execution_count": 119,
   "id": "845239a0-0caf-4fc7-9c5c-d6df101b7a3f",
   "metadata": {
    "execution": {
     "iopub.execute_input": "2025-07-08T12:00:57.088109Z",
     "iopub.status.busy": "2025-07-08T12:00:57.087372Z",
     "iopub.status.idle": "2025-07-08T12:00:57.269463Z",
     "shell.execute_reply": "2025-07-08T12:00:57.268641Z",
     "shell.execute_reply.started": "2025-07-08T12:00:57.088083Z"
    }
   },
   "outputs": [],
   "source": [
    "attention_5 = MultiplicativeAttentions(256, scoring_function = \"general\", bidirectional = True).to(device)\n",
    "lstm_model_6 = AttentiveLSTM(256, tokenizer.vocab_size, 512, attention = attention_5, bidirectional = True).to(device)\n",
    "optimizer_14 = torch.optim.Adam(lstm_model_6.parameters(), lr=1e-4)"
   ]
  },
  {
   "cell_type": "code",
   "execution_count": 120,
   "id": "a8e7f0c5-9eaf-4ece-8533-b332e647236d",
   "metadata": {
    "execution": {
     "iopub.execute_input": "2025-07-08T12:01:01.311638Z",
     "iopub.status.busy": "2025-07-08T12:01:01.311018Z",
     "iopub.status.idle": "2025-07-08T12:38:51.596787Z",
     "shell.execute_reply": "2025-07-08T12:38:51.595819Z",
     "shell.execute_reply.started": "2025-07-08T12:01:01.311612Z"
    }
   },
   "outputs": [
    {
     "name": "stdout",
     "output_type": "stream",
     "text": [
      "Progress      Epoch     Loss        Accuracy        training time per epoch\n",
      "62              1     351.1434      67.16%              110.55 sec\n",
      "62              2     225.7854      83.59%              110.40 sec\n",
      "62              3     163.1498      89.18%              110.17 sec\n",
      "62              4     122.4316      92.35%              109.83 sec\n",
      "62              5     91.6585       94.56%              110.57 sec\n",
      "62              6     67.5057       96.13%              112.90 sec\n",
      "62              7     48.3958       97.36%              115.68 sec\n",
      "62              8     39.0752       98.00%              112.13 sec\n",
      "62              9     30.1469       98.56%              113.05 sec\n",
      "62              10    25.6607       98.78%              116.57 sec\n",
      "62              11    21.7075       98.98%              117.76 sec\n",
      "62              12    20.7019       99.02%              114.73 sec\n",
      "62              13    16.9468       99.21%              113.84 sec\n",
      "62              14    16.6615       99.22%              113.00 sec\n",
      "62              15    20.0807       99.07%              113.31 sec\n",
      "62              16    12.2567       99.46%              115.91 sec\n",
      "62              17    12.7957       99.42%              113.96 sec\n",
      "62              18    12.6041       99.41%              114.05 sec\n",
      "62              19    11.7394       99.46%              114.77 sec\n",
      "62              20    11.1312       99.47%              117.12 sec\n",
      "\n",
      "\n",
      "Total Train Time: 0h 37m 50s\n"
     ]
    }
   ],
   "source": [
    "if not load_pre_trained_model:\n",
    "    train(lstm_model_6, device, criterion, optimizer_14, train_epochs =20, pre_epochs = 0)\n",
    "else:\n",
    "    saved_path = os.path.join(saved_dir, \"lstm_model_6.pth\")\n",
    "    lstm_model_6.load_state_dict(torch.load(saved_path))"
   ]
  },
  {
   "cell_type": "markdown",
   "id": "4a22cbd1-7120-479f-b2e8-a3154c16c59c",
   "metadata": {},
   "source": [
    "* Total Train Time: 0h 37m 50s\n",
    "* Train Time Per Epoch: 109s ~ 117s\n",
    "* Training Accracy: 99.47%\n",
    "* Batch Size: 64"
   ]
  },
  {
   "cell_type": "code",
   "execution_count": 122,
   "id": "3f4b4baa-5a4f-46e9-8bed-9cd27022b8c3",
   "metadata": {
    "execution": {
     "iopub.execute_input": "2025-07-08T12:39:57.793436Z",
     "iopub.status.busy": "2025-07-08T12:39:57.792823Z",
     "iopub.status.idle": "2025-07-08T12:40:24.961740Z",
     "shell.execute_reply": "2025-07-08T12:40:24.960902Z",
     "shell.execute_reply.started": "2025-07-08T12:39:57.793393Z"
    }
   },
   "outputs": [
    {
     "data": {
      "text/html": [
       "\n",
       "    <table style=\"width:50%; border-collapse: collapse; font-size: 16px;\">\n",
       "        <thead>\n",
       "            <tr>\n",
       "                <th style=\"border: 1px solid #ddd; padding: 8px;\">Metric</th>\n",
       "                <th style=\"border: 1px solid #ddd; padding: 8px;\">Macro</th>\n",
       "                <th style=\"border: 1px solid #ddd; padding: 8px;\">Micro</th>\n",
       "            </tr>\n",
       "        </thead>\n",
       "        <tbody>\n",
       "            <tr><td style=\"border: 1px solid #ddd; padding: 8px;\">Accuracy</td>\n",
       "                <td colspan=\"2\" style=\"border: 1px solid #ddd; padding: 12px; text-align: center;\">\n",
       "                    <b style=\"font-size: 18px;\">87.32%</b>\n",
       "                </td>\n",
       "            </tr>\n",
       "    \n",
       "            <tr><td style=\"border: 1px solid #ddd; padding: 8px;\">Precision</td>\n",
       "                <td style=\"border: 1px solid #ddd; padding: 8px;\">87.32%</td>\n",
       "                <td style=\"border: 1px solid #ddd; padding: 8px;\">87.32%</td></tr>\n",
       "    \n",
       "            <tr><td style=\"border: 1px solid #ddd; padding: 8px;\">Recall</td>\n",
       "                <td style=\"border: 1px solid #ddd; padding: 8px;\">87.33%</td>\n",
       "                <td style=\"border: 1px solid #ddd; padding: 8px;\">87.32%</td></tr>\n",
       "    \n",
       "            <tr><td style=\"border: 1px solid #ddd; padding: 8px;\">F1 Score</td>\n",
       "                <td style=\"border: 1px solid #ddd; padding: 8px;\">87.32%</td>\n",
       "                <td style=\"border: 1px solid #ddd; padding: 8px;\">87.32%</td></tr>\n",
       "        </tbody>\n",
       "    </table>\n",
       "    "
      ],
      "text/plain": [
       "<IPython.core.display.HTML object>"
      ]
     },
     "metadata": {},
     "output_type": "display_data"
    },
    {
     "data": {
      "image/png": "[encoded data removed]",
      "text/plain": [
       "<Figure size 640x480 with 2 Axes>"
      ]
     },
     "metadata": {},
     "output_type": "display_data"
    }
   ],
   "source": [
    "eval(lstm_model_6, device, dev_loader)"
   ]
  },
  {
   "cell_type": "code",
   "execution_count": 123,
   "id": "3bf2d3d4-7456-445a-92f0-e0d48bdb77f5",
   "metadata": {
    "execution": {
     "iopub.execute_input": "2025-07-08T12:40:34.043175Z",
     "iopub.status.busy": "2025-07-08T12:40:34.042595Z",
     "iopub.status.idle": "2025-07-08T12:40:38.218322Z",
     "shell.execute_reply": "2025-07-08T12:40:38.217641Z",
     "shell.execute_reply.started": "2025-07-08T12:40:34.043153Z"
    }
   },
   "outputs": [
    {
     "name": "stdout",
     "output_type": "stream",
     "text": [
      "lstm_model_6.zip saved at /kaggle/working/lstm_model_6.zip | Size: 62.61 MB\n"
     ]
    }
   ],
   "source": [
    "if save_model:\n",
    "    save_model_as_zip(lstm_model_6, \"lstm_model_6\")"
   ]
  },
  {
   "cell_type": "markdown",
   "id": "ef4c5ec0-34de-424c-8c73-11bfc6592f76",
   "metadata": {},
   "source": [
    "## Bi-LSTM with \"concat\" Attention"
   ]
  },
  {
   "cell_type": "code",
   "execution_count": 126,
   "id": "03044599-0bd9-4013-8746-b90fb65ef1a4",
   "metadata": {
    "execution": {
     "iopub.execute_input": "2025-07-08T12:42:11.164404Z",
     "iopub.status.busy": "2025-07-08T12:42:11.164047Z",
     "iopub.status.idle": "2025-07-08T12:42:11.365233Z",
     "shell.execute_reply": "2025-07-08T12:42:11.364698Z",
     "shell.execute_reply.started": "2025-07-08T12:42:11.164377Z"
    }
   },
   "outputs": [],
   "source": [
    "attention_6 = MultiplicativeAttentions(256, scoring_function = \"concat\", bidirectional = True).to(device)\n",
    "lstm_model_7 = AttentiveLSTM(256, tokenizer.vocab_size, 512, attention = attention_6, bidirectional = True).to(device)\n",
    "optimizer_15 = torch.optim.Adam(lstm_model_7.parameters(), lr=1e-4)"
   ]
  },
  {
   "cell_type": "code",
   "execution_count": 127,
   "id": "0c14d022-aee6-4c22-95bd-dfd0b6853212",
   "metadata": {
    "execution": {
     "iopub.execute_input": "2025-07-08T12:42:15.017352Z",
     "iopub.status.busy": "2025-07-08T12:42:15.017052Z",
     "iopub.status.idle": "2025-07-08T13:21:02.829807Z",
     "shell.execute_reply": "2025-07-08T13:21:02.828652Z",
     "shell.execute_reply.started": "2025-07-08T12:42:15.017329Z"
    }
   },
   "outputs": [
    {
     "name": "stdout",
     "output_type": "stream",
     "text": [
      "Progress      Epoch     Loss        Accuracy        training time per epoch\n",
      "62              1     299.0117      72.88%              117.94 sec\n",
      "62              2     187.6341      86.78%              115.07 sec\n",
      "62              3     150.8223      89.94%              118.51 sec\n",
      "62              4     120.9965      92.14%              116.97 sec\n",
      "62              5     96.4091       93.96%              114.97 sec\n",
      "62              6     79.1075       95.12%              115.65 sec\n",
      "62              7     58.3872       96.50%              114.60 sec\n",
      "62              8     42.8601       97.71%              114.32 sec\n",
      "62              9     33.9431       98.22%              115.14 sec\n",
      "62              10    31.2502       98.30%              116.56 sec\n",
      "62              11    21.6464       98.95%              116.11 sec\n",
      "62              12    17.3446       99.15%              116.72 sec\n",
      "62              13    15.0190       99.36%              117.11 sec\n",
      "62              14    12.3340       99.39%              115.18 sec\n",
      "62              15    14.1600       99.28%              116.93 sec\n",
      "62              16    9.6683        99.54%              115.63 sec\n",
      "62              17    10.9118       99.41%              117.57 sec\n",
      "62              18    10.0880       99.47%              118.30 sec\n",
      "62              19    8.4774        99.58%              116.95 sec\n",
      "62              20    7.5724        99.62%              117.58 sec\n",
      "\n",
      "\n",
      "Total Train Time: 0h 38m 47s\n"
     ]
    }
   ],
   "source": [
    "if not load_pre_trained_model:\n",
    "    train(lstm_model_7, device, criterion, optimizer_15, train_epochs =20, pre_epochs = 0)\n",
    "else:\n",
    "    saved_path = os.path.join(saved_dir, \"lstm_model_7.pth\")\n",
    "    lstm_model_7.load_state_dict(torch.load(saved_path))"
   ]
  },
  {
   "cell_type": "markdown",
   "id": "d8c9625a-3c13-4b18-9296-1f61289579e2",
   "metadata": {},
   "source": [
    "* Total Train Time: 0h 38m 47s\n",
    "* Train Time Per Epoch: 1114s ~ 118s\n",
    "* Training Accracy: 99.62%\n",
    "* Batch Size: 64"
   ]
  },
  {
   "cell_type": "code",
   "execution_count": 129,
   "id": "a71be719-1476-463b-a201-0f62f4a8411c",
   "metadata": {
    "execution": {
     "iopub.execute_input": "2025-07-08T13:22:24.043379Z",
     "iopub.status.busy": "2025-07-08T13:22:24.043056Z",
     "iopub.status.idle": "2025-07-08T13:22:49.558401Z",
     "shell.execute_reply": "2025-07-08T13:22:49.557821Z",
     "shell.execute_reply.started": "2025-07-08T13:22:24.043354Z"
    }
   },
   "outputs": [
    {
     "data": {
      "text/html": [
       "\n",
       "    <table style=\"width:50%; border-collapse: collapse; font-size: 16px;\">\n",
       "        <thead>\n",
       "            <tr>\n",
       "                <th style=\"border: 1px solid #ddd; padding: 8px;\">Metric</th>\n",
       "                <th style=\"border: 1px solid #ddd; padding: 8px;\">Macro</th>\n",
       "                <th style=\"border: 1px solid #ddd; padding: 8px;\">Micro</th>\n",
       "            </tr>\n",
       "        </thead>\n",
       "        <tbody>\n",
       "            <tr><td style=\"border: 1px solid #ddd; padding: 8px;\">Accuracy</td>\n",
       "                <td colspan=\"2\" style=\"border: 1px solid #ddd; padding: 12px; text-align: center;\">\n",
       "                    <b style=\"font-size: 18px;\">89.12%</b>\n",
       "                </td>\n",
       "            </tr>\n",
       "    \n",
       "            <tr><td style=\"border: 1px solid #ddd; padding: 8px;\">Precision</td>\n",
       "                <td style=\"border: 1px solid #ddd; padding: 8px;\">89.12%</td>\n",
       "                <td style=\"border: 1px solid #ddd; padding: 8px;\">89.12%</td></tr>\n",
       "    \n",
       "            <tr><td style=\"border: 1px solid #ddd; padding: 8px;\">Recall</td>\n",
       "                <td style=\"border: 1px solid #ddd; padding: 8px;\">89.17%</td>\n",
       "                <td style=\"border: 1px solid #ddd; padding: 8px;\">89.12%</td></tr>\n",
       "    \n",
       "            <tr><td style=\"border: 1px solid #ddd; padding: 8px;\">F1 Score</td>\n",
       "                <td style=\"border: 1px solid #ddd; padding: 8px;\">89.12%</td>\n",
       "                <td style=\"border: 1px solid #ddd; padding: 8px;\">89.12%</td></tr>\n",
       "        </tbody>\n",
       "    </table>\n",
       "    "
      ],
      "text/plain": [
       "<IPython.core.display.HTML object>"
      ]
     },
     "metadata": {},
     "output_type": "display_data"
    },
    {
     "data": {
      "image/png": "[encoded data removed]",
      "text/plain": [
       "<Figure size 640x480 with 2 Axes>"
      ]
     },
     "metadata": {},
     "output_type": "display_data"
    }
   ],
   "source": [
    "eval(lstm_model_7, device, dev_loader)"
   ]
  },
  {
   "cell_type": "code",
   "execution_count": 130,
   "id": "7650eeb2-d4a6-4f9b-b261-999ef43b865a",
   "metadata": {
    "execution": {
     "iopub.execute_input": "2025-07-08T13:23:05.977488Z",
     "iopub.status.busy": "2025-07-08T13:23:05.976935Z",
     "iopub.status.idle": "2025-07-08T13:23:09.794300Z",
     "shell.execute_reply": "2025-07-08T13:23:09.793711Z",
     "shell.execute_reply.started": "2025-07-08T13:23:05.977465Z"
    }
   },
   "outputs": [
    {
     "name": "stdout",
     "output_type": "stream",
     "text": [
      "lstm_model_7.zip saved at /kaggle/working/lstm_model_7.zip | Size: 62.63 MB\n"
     ]
    }
   ],
   "source": [
    "if save_model:\n",
    "    save_model_as_zip(lstm_model_7, \"lstm_model_7\")"
   ]
  }
 ],
 "metadata": {
  "kaggle": {
   "accelerator": "nvidiaTeslaT4",
   "dataSources": [],
   "dockerImageVersionId": 31090,
   "isGpuEnabled": true,
   "isInternetEnabled": true,
   "language": "python",
   "sourceType": "notebook"
  },
  "kernelspec": {
   "display_name": "Python (sklearn_env)",
   "language": "python",
   "name": "sklearn_env"
  },
  "language_info": {
   "codemirror_mode": {
    "name": "ipython",
    "version": 3
   },
   "file_extension": ".py",
   "mimetype": "text/x-python",
   "name": "python",
   "nbconvert_exporter": "python",
   "pygments_lexer": "ipython3",
   "version": "3.12.3"
  }
 },
 "nbformat": 4,
 "nbformat_minor": 5
}
